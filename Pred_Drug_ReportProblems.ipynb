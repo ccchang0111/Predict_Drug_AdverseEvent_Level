{
 "cells": [
  {
   "cell_type": "markdown",
   "metadata": {
    "deletable": true,
    "editable": true
   },
   "source": [
    "# Predicting Drug's Reported Problems (Adverse Events) "
   ]
  },
  {
   "cell_type": "markdown",
   "metadata": {
    "deletable": true,
    "editable": true
   },
   "source": [
    "Andrew Chang, 2017/2/19\n",
    "\n",
    "[The drug search app can be found here](https://ccchang0111.shinyapps.io/shinyapp/) (R Shiny app)\n",
    "\n",
    "The purpose of this app is to find out **how likely a given drug or ingredient will cause problem** and allow user to compare similar drugs with the same active ingredients. \n",
    "\n",
    "When a person is sick, it might be hard to decide what medicine to take, because there are so many similar drugs under different brand-names that can treat the same symptom. Sometimes doctors might also find it difficult prescribing the right drug.  This app is potentially useful for anyone (**especially for those who do not have access to good healthcare**) when it comes to deciding what drugs to take, or to learn more about the drug they are currently taking. \n",
    "\n",
    "The \"adverse event\" in FDA's report can range from minor issues (like 'rash') to sever problems (like 'permanent deafness') and to wierd cases (like 'snake bite'?!). However, **not all the drugs on the market have well-documented adverse events (AE) in FDA's dataset**. Therefore, for those drugs without any AE reports, I apply **sklearn's CountVectorizer** and **SGDClassifier** to calculate their 'problematic level' based on their **name** and **active ingredients**. \n",
    "\n",
    "This document contains three sections:\n",
    "\n",
    "### 1. <a href='#data_collection'>Data collection and cleaning (90% of the total work!!)</a>\n",
    "\n",
    "### 2. <a href='#ft_label'> Generate Features and Lables (8%)</a>\n",
    "   \n",
    "### 3. <a href='#ML'>Training and Prediction</a>\n",
    "(The last step only took 2% of the total work! Once the 'gound work' is well established, the rest is very easy)"
   ]
  },
  {
   "cell_type": "code",
   "execution_count": 1,
   "metadata": {
    "collapsed": false,
    "deletable": true,
    "editable": true,
    "scrolled": true
   },
   "outputs": [
    {
     "name": "stderr",
     "output_type": "stream",
     "text": [
      "/Users/changc25/Library/Enthought/Canopy_64bit/User/lib/python2.7/site-packages/matplotlib/font_manager.py:273: UserWarning: Matplotlib is building the font cache using fc-list. This may take a moment.\n",
      "  warnings.warn('Matplotlib is building the font cache using fc-list. This may take a moment.')\n"
     ]
    }
   ],
   "source": [
    "import pandas as pd\n",
    "import numpy as np\n",
    "import pickle\n",
    "from IPython.display import display\n",
    "import sys\n",
    "import seaborn as sns\n",
    "import matplotlib.pyplot as plt\n",
    "%matplotlib inline"
   ]
  },
  {
   "cell_type": "markdown",
   "metadata": {
    "deletable": true,
    "editable": true
   },
   "source": [
    "<a id='data_collection'></a>\n",
    "# 1. Data collection and cleaning\n",
    "\n",
    "Two important datasets used here:\n",
    "- ### [Drugs and their active ingredients](https://www.fda.gov/Drugs/InformationOnDrugs/ucm079750.htm)\n",
    "- ### [Drugs and their AE reports](http://www.nature.com/articles/sdata201626)\n",
    "\n",
    "The purpose of this step is to create a cleaned table that looks like this:\n",
    "\n",
    "[**Drug_Name, Ingredients, Average_AE_Odds_Ratio**]\n"
   ]
  },
  {
   "cell_type": "markdown",
   "metadata": {
    "deletable": true,
    "editable": true
   },
   "source": [
    "## 1-1 Clean Drug Ingredient Data"
   ]
  },
  {
   "cell_type": "code",
   "execution_count": 2,
   "metadata": {
    "collapsed": false,
    "deletable": true,
    "editable": true,
    "scrolled": false
   },
   "outputs": [
    {
     "data": {
      "text/html": [
       "<div>\n",
       "<table border=\"1\" class=\"dataframe\">\n",
       "  <thead>\n",
       "    <tr style=\"text-align: right;\">\n",
       "      <th></th>\n",
       "      <th>ApplNo</th>\n",
       "      <th>ProductNo</th>\n",
       "      <th>Form</th>\n",
       "      <th>Strength</th>\n",
       "      <th>ReferenceDrug</th>\n",
       "      <th>DrugName</th>\n",
       "      <th>ActiveIngredient</th>\n",
       "    </tr>\n",
       "  </thead>\n",
       "  <tbody>\n",
       "    <tr>\n",
       "      <th>0</th>\n",
       "      <td>4</td>\n",
       "      <td>4</td>\n",
       "      <td>SOLUTION/DROPS;OPHTHALMIC</td>\n",
       "      <td>1%</td>\n",
       "      <td>0</td>\n",
       "      <td>PAREDRINE</td>\n",
       "      <td>HYDROXYAMPHETAMINE HYDROBROMIDE</td>\n",
       "    </tr>\n",
       "    <tr>\n",
       "      <th>1</th>\n",
       "      <td>159</td>\n",
       "      <td>1</td>\n",
       "      <td>TABLET;ORAL</td>\n",
       "      <td>500MG</td>\n",
       "      <td>0</td>\n",
       "      <td>SULFAPYRIDINE</td>\n",
       "      <td>SULFAPYRIDINE</td>\n",
       "    </tr>\n",
       "    <tr>\n",
       "      <th>2</th>\n",
       "      <td>552</td>\n",
       "      <td>1</td>\n",
       "      <td>INJECTABLE;INJECTION</td>\n",
       "      <td>20,000 UNITS/ML</td>\n",
       "      <td>0</td>\n",
       "      <td>LIQUAEMIN SODIUM</td>\n",
       "      <td>HEPARIN SODIUM</td>\n",
       "    </tr>\n",
       "    <tr>\n",
       "      <th>3</th>\n",
       "      <td>552</td>\n",
       "      <td>2</td>\n",
       "      <td>INJECTABLE;INJECTION</td>\n",
       "      <td>40,000 UNITS/ML</td>\n",
       "      <td>0</td>\n",
       "      <td>LIQUAEMIN SODIUM</td>\n",
       "      <td>HEPARIN SODIUM</td>\n",
       "    </tr>\n",
       "    <tr>\n",
       "      <th>4</th>\n",
       "      <td>552</td>\n",
       "      <td>3</td>\n",
       "      <td>INJECTABLE;INJECTION</td>\n",
       "      <td>5,000 UNITS/ML</td>\n",
       "      <td>0</td>\n",
       "      <td>LIQUAEMIN SODIUM</td>\n",
       "      <td>HEPARIN SODIUM</td>\n",
       "    </tr>\n",
       "  </tbody>\n",
       "</table>\n",
       "</div>"
      ],
      "text/plain": [
       "   ApplNo  ProductNo                       Form         Strength  \\\n",
       "0       4          4  SOLUTION/DROPS;OPHTHALMIC               1%   \n",
       "1     159          1                TABLET;ORAL            500MG   \n",
       "2     552          1       INJECTABLE;INJECTION  20,000 UNITS/ML   \n",
       "3     552          2       INJECTABLE;INJECTION  40,000 UNITS/ML   \n",
       "4     552          3       INJECTABLE;INJECTION   5,000 UNITS/ML   \n",
       "\n",
       "   ReferenceDrug          DrugName                 ActiveIngredient  \n",
       "0              0         PAREDRINE  HYDROXYAMPHETAMINE HYDROBROMIDE  \n",
       "1              0     SULFAPYRIDINE                    SULFAPYRIDINE  \n",
       "2              0  LIQUAEMIN SODIUM                   HEPARIN SODIUM  \n",
       "3              0  LIQUAEMIN SODIUM                   HEPARIN SODIUM  \n",
       "4              0  LIQUAEMIN SODIUM                   HEPARIN SODIUM  "
      ]
     },
     "execution_count": 2,
     "metadata": {},
     "output_type": "execute_result"
    }
   ],
   "source": [
    "filename1 = '.../Products.csv'\n",
    "drug_info = pd.read_csv(filename1)\n",
    "drug_info.head()"
   ]
  },
  {
   "cell_type": "code",
   "execution_count": 5,
   "metadata": {
    "collapsed": false,
    "deletable": true,
    "editable": true
   },
   "outputs": [
    {
     "name": "stdout",
     "output_type": "stream",
     "text": [
      "number of unique drug names: 6850\n"
     ]
    }
   ],
   "source": [
    "print 'number of unique drug names:',drug_info.DrugName.nunique()"
   ]
  },
  {
   "cell_type": "markdown",
   "metadata": {
    "deletable": true,
    "editable": true
   },
   "source": [
    "Re-organize the above table into a dict:\n",
    "** {Drug1 : [ActiveIngredient 1, ActiveIngredient 2, ...], Drug2: [ActiveIngredient 1, ...]..} **"
   ]
  },
  {
   "cell_type": "code",
   "execution_count": 117,
   "metadata": {
    "collapsed": false,
    "deletable": true,
    "editable": true
   },
   "outputs": [],
   "source": [
    "# ignore drug with different dosing levels, because they all have the same ingredients\n",
    "drug_dict = {}\n",
    "for name in drug_info.DrugName.unique():\n",
    "    ingredients = [x.lower() for x in drug_info.loc[drug_info.DrugName == name,'ActiveIngredient'].values[0].split(';')]\n",
    "    drug_dict[name.lower()] = ingredients"
   ]
  },
  {
   "cell_type": "code",
   "execution_count": 113,
   "metadata": {
    "collapsed": true,
    "deletable": true,
    "editable": true
   },
   "outputs": [],
   "source": [
    "drug_dict_df = pd.DataFrame(dict([ (k,pd.Series(v)) for k,v in drug_dict.iteritems() ])).T\n",
    "drug_dict_df.reset_index(inplace=True)\n",
    "drug_dict_df.rename(columns={'index': 'drug'}, inplace=True)"
   ]
  },
  {
   "cell_type": "markdown",
   "metadata": {
    "deletable": true,
    "editable": true
   },
   "source": [
    "Remove '(' in the 'drug name' and 'first ingredient', because we are going to use these two columns to search AE reports in another dataset."
   ]
  },
  {
   "cell_type": "code",
   "execution_count": 115,
   "metadata": {
    "collapsed": false,
    "deletable": true,
    "editable": true,
    "scrolled": true
   },
   "outputs": [],
   "source": [
    "idx = drug_dict_df.drug.str.contains(\"\\(\")\n",
    "drug_dict_df.loc[idx,'drug'] = drug_dict_df.loc[idx,'drug'].map(lambda drug : drug.split(' (')[0])\n",
    "\n",
    "idx = drug_dict_df.loc[:,0].str.contains(\"\\(\")\n",
    "drug_dict_df.loc[idx,0] = drug_dict_df.loc[idx,0].map(lambda drug : drug.split('(')[0])"
   ]
  },
  {
   "cell_type": "code",
   "execution_count": 117,
   "metadata": {
    "collapsed": false,
    "deletable": true,
    "editable": true,
    "scrolled": true
   },
   "outputs": [
    {
     "data": {
      "text/html": [
       "<div>\n",
       "<table border=\"1\" class=\"dataframe\">\n",
       "  <thead>\n",
       "    <tr style=\"text-align: right;\">\n",
       "      <th></th>\n",
       "      <th>drug</th>\n",
       "      <th>0</th>\n",
       "      <th>1</th>\n",
       "      <th>2</th>\n",
       "      <th>3</th>\n",
       "      <th>4</th>\n",
       "      <th>5</th>\n",
       "      <th>6</th>\n",
       "      <th>7</th>\n",
       "      <th>8</th>\n",
       "      <th>9</th>\n",
       "      <th>10</th>\n",
       "      <th>11</th>\n",
       "      <th>12</th>\n",
       "    </tr>\n",
       "  </thead>\n",
       "  <tbody>\n",
       "    <tr>\n",
       "      <th>0</th>\n",
       "      <td>8-hour bayer</td>\n",
       "      <td>aspirin</td>\n",
       "      <td>NaN</td>\n",
       "      <td>NaN</td>\n",
       "      <td>NaN</td>\n",
       "      <td>NaN</td>\n",
       "      <td>NaN</td>\n",
       "      <td>NaN</td>\n",
       "      <td>NaN</td>\n",
       "      <td>NaN</td>\n",
       "      <td>NaN</td>\n",
       "      <td>NaN</td>\n",
       "      <td>NaN</td>\n",
       "      <td>NaN</td>\n",
       "    </tr>\n",
       "    <tr>\n",
       "      <th>1</th>\n",
       "      <td>8-mop</td>\n",
       "      <td>methoxsalen</td>\n",
       "      <td>NaN</td>\n",
       "      <td>NaN</td>\n",
       "      <td>NaN</td>\n",
       "      <td>NaN</td>\n",
       "      <td>NaN</td>\n",
       "      <td>NaN</td>\n",
       "      <td>NaN</td>\n",
       "      <td>NaN</td>\n",
       "      <td>NaN</td>\n",
       "      <td>NaN</td>\n",
       "      <td>NaN</td>\n",
       "      <td>NaN</td>\n",
       "    </tr>\n",
       "    <tr>\n",
       "      <th>2</th>\n",
       "      <td>a-hydrocort</td>\n",
       "      <td>hydrocortisone sodium succinate</td>\n",
       "      <td>NaN</td>\n",
       "      <td>NaN</td>\n",
       "      <td>NaN</td>\n",
       "      <td>NaN</td>\n",
       "      <td>NaN</td>\n",
       "      <td>NaN</td>\n",
       "      <td>NaN</td>\n",
       "      <td>NaN</td>\n",
       "      <td>NaN</td>\n",
       "      <td>NaN</td>\n",
       "      <td>NaN</td>\n",
       "      <td>NaN</td>\n",
       "    </tr>\n",
       "    <tr>\n",
       "      <th>3</th>\n",
       "      <td>a-methapred</td>\n",
       "      <td>methylprednisolone sodium succinate</td>\n",
       "      <td>NaN</td>\n",
       "      <td>NaN</td>\n",
       "      <td>NaN</td>\n",
       "      <td>NaN</td>\n",
       "      <td>NaN</td>\n",
       "      <td>NaN</td>\n",
       "      <td>NaN</td>\n",
       "      <td>NaN</td>\n",
       "      <td>NaN</td>\n",
       "      <td>NaN</td>\n",
       "      <td>NaN</td>\n",
       "      <td>NaN</td>\n",
       "    </tr>\n",
       "    <tr>\n",
       "      <th>4</th>\n",
       "      <td>a-n stannous aggregated albumin</td>\n",
       "      <td>technetium tc-99m albumin aggregated kit</td>\n",
       "      <td>NaN</td>\n",
       "      <td>NaN</td>\n",
       "      <td>NaN</td>\n",
       "      <td>NaN</td>\n",
       "      <td>NaN</td>\n",
       "      <td>NaN</td>\n",
       "      <td>NaN</td>\n",
       "      <td>NaN</td>\n",
       "      <td>NaN</td>\n",
       "      <td>NaN</td>\n",
       "      <td>NaN</td>\n",
       "      <td>NaN</td>\n",
       "    </tr>\n",
       "  </tbody>\n",
       "</table>\n",
       "</div>"
      ],
      "text/plain": [
       "                              drug                                         0  \\\n",
       "0                     8-hour bayer                                   aspirin   \n",
       "1                            8-mop                               methoxsalen   \n",
       "2                      a-hydrocort           hydrocortisone sodium succinate   \n",
       "3                      a-methapred       methylprednisolone sodium succinate   \n",
       "4  a-n stannous aggregated albumin  technetium tc-99m albumin aggregated kit   \n",
       "\n",
       "     1    2    3    4    5    6    7    8    9   10   11   12  \n",
       "0  NaN  NaN  NaN  NaN  NaN  NaN  NaN  NaN  NaN  NaN  NaN  NaN  \n",
       "1  NaN  NaN  NaN  NaN  NaN  NaN  NaN  NaN  NaN  NaN  NaN  NaN  \n",
       "2  NaN  NaN  NaN  NaN  NaN  NaN  NaN  NaN  NaN  NaN  NaN  NaN  \n",
       "3  NaN  NaN  NaN  NaN  NaN  NaN  NaN  NaN  NaN  NaN  NaN  NaN  \n",
       "4  NaN  NaN  NaN  NaN  NaN  NaN  NaN  NaN  NaN  NaN  NaN  NaN  "
      ]
     },
     "execution_count": 117,
     "metadata": {},
     "output_type": "execute_result"
    }
   ],
   "source": [
    "drug_dict_df.head()"
   ]
  },
  {
   "cell_type": "code",
   "execution_count": 124,
   "metadata": {
    "collapsed": true,
    "deletable": true,
    "editable": true
   },
   "outputs": [],
   "source": [
    "drug_dict_df.to_csv('.../drug_dict_df.csv', index=None)"
   ]
  },
  {
   "cell_type": "markdown",
   "metadata": {
    "deletable": true,
    "editable": true
   },
   "source": [
    "## 1-2 Clean Adverse Event Data\n",
    "\n",
    "more than 500 Mb and more than 1M cases"
   ]
  },
  {
   "cell_type": "code",
   "execution_count": 50,
   "metadata": {
    "collapsed": false,
    "deletable": true,
    "editable": true
   },
   "outputs": [],
   "source": [
    "lookup_col = ['ID', 1, 2, 3, 4, 5, 6, 7, 8, 9, 10]\n",
    "lookup = pd.read_table('.../concept.tsv', names=lookup_col)\n",
    "\n",
    "colname = ['drug_concept_id', 'outcome_concept_id', 'snomed_outcome_concept_id', 'case_count', 'prr', 'prr_95_upper','prr_95_lower', 'ror', 'ror_95_upper', 'ror_95_lower']\n",
    "AE = pd.read_table('.../standard_drug_outcome_statistics.tsv', names = colname)\n",
    "\n",
    "lookup.loc[:,1] = lookup.loc[:,1].str.lower()"
   ]
  },
  {
   "cell_type": "code",
   "execution_count": 51,
   "metadata": {
    "collapsed": false,
    "deletable": true,
    "editable": true,
    "scrolled": true
   },
   "outputs": [
    {
     "data": {
      "text/html": [
       "<div>\n",
       "<table border=\"1\" class=\"dataframe\">\n",
       "  <thead>\n",
       "    <tr style=\"text-align: right;\">\n",
       "      <th></th>\n",
       "      <th>ID</th>\n",
       "      <th>1</th>\n",
       "      <th>2</th>\n",
       "      <th>3</th>\n",
       "      <th>4</th>\n",
       "      <th>5</th>\n",
       "      <th>6</th>\n",
       "      <th>7</th>\n",
       "      <th>8</th>\n",
       "      <th>9</th>\n",
       "      <th>10</th>\n",
       "    </tr>\n",
       "  </thead>\n",
       "  <tbody>\n",
       "    <tr>\n",
       "      <th>0</th>\n",
       "      <td>0</td>\n",
       "      <td>no matching concept</td>\n",
       "      <td>Metadata</td>\n",
       "      <td>None</td>\n",
       "      <td>Undefined</td>\n",
       "      <td>NaN</td>\n",
       "      <td>No matching concept</td>\n",
       "      <td>1970-01-01</td>\n",
       "      <td>2099-12-31</td>\n",
       "      <td>NaN</td>\n",
       "      <td>NaN</td>\n",
       "    </tr>\n",
       "    <tr>\n",
       "      <th>1</th>\n",
       "      <td>1</td>\n",
       "      <td>domain</td>\n",
       "      <td>Metadata</td>\n",
       "      <td>Domain</td>\n",
       "      <td>Domain</td>\n",
       "      <td>NaN</td>\n",
       "      <td>OMOP generated</td>\n",
       "      <td>1970-01-01</td>\n",
       "      <td>2099-12-31</td>\n",
       "      <td>NaN</td>\n",
       "      <td>NaN</td>\n",
       "    </tr>\n",
       "    <tr>\n",
       "      <th>2</th>\n",
       "      <td>2</td>\n",
       "      <td>gender</td>\n",
       "      <td>Metadata</td>\n",
       "      <td>Domain</td>\n",
       "      <td>Domain</td>\n",
       "      <td>NaN</td>\n",
       "      <td>OMOP generated</td>\n",
       "      <td>1970-01-01</td>\n",
       "      <td>2099-12-31</td>\n",
       "      <td>NaN</td>\n",
       "      <td>NaN</td>\n",
       "    </tr>\n",
       "    <tr>\n",
       "      <th>3</th>\n",
       "      <td>3</td>\n",
       "      <td>race</td>\n",
       "      <td>Metadata</td>\n",
       "      <td>Domain</td>\n",
       "      <td>Domain</td>\n",
       "      <td>NaN</td>\n",
       "      <td>OMOP generated</td>\n",
       "      <td>1970-01-01</td>\n",
       "      <td>2099-12-31</td>\n",
       "      <td>NaN</td>\n",
       "      <td>NaN</td>\n",
       "    </tr>\n",
       "    <tr>\n",
       "      <th>4</th>\n",
       "      <td>4</td>\n",
       "      <td>ethnicity</td>\n",
       "      <td>Metadata</td>\n",
       "      <td>Domain</td>\n",
       "      <td>Domain</td>\n",
       "      <td>NaN</td>\n",
       "      <td>OMOP generated</td>\n",
       "      <td>1970-01-01</td>\n",
       "      <td>2099-12-31</td>\n",
       "      <td>NaN</td>\n",
       "      <td>NaN</td>\n",
       "    </tr>\n",
       "  </tbody>\n",
       "</table>\n",
       "</div>"
      ],
      "text/plain": [
       "   ID                    1         2       3          4    5  \\\n",
       "0   0  no matching concept  Metadata    None  Undefined  NaN   \n",
       "1   1               domain  Metadata  Domain     Domain  NaN   \n",
       "2   2               gender  Metadata  Domain     Domain  NaN   \n",
       "3   3                 race  Metadata  Domain     Domain  NaN   \n",
       "4   4            ethnicity  Metadata  Domain     Domain  NaN   \n",
       "\n",
       "                     6           7           8    9  10  \n",
       "0  No matching concept  1970-01-01  2099-12-31  NaN NaN  \n",
       "1       OMOP generated  1970-01-01  2099-12-31  NaN NaN  \n",
       "2       OMOP generated  1970-01-01  2099-12-31  NaN NaN  \n",
       "3       OMOP generated  1970-01-01  2099-12-31  NaN NaN  \n",
       "4       OMOP generated  1970-01-01  2099-12-31  NaN NaN  "
      ]
     },
     "execution_count": 51,
     "metadata": {},
     "output_type": "execute_result"
    }
   ],
   "source": [
    "lookup.head() # names for all the concept_id in AE data"
   ]
  },
  {
   "cell_type": "code",
   "execution_count": 52,
   "metadata": {
    "collapsed": false,
    "deletable": true,
    "editable": true,
    "scrolled": true
   },
   "outputs": [
    {
     "data": {
      "text/html": [
       "<div>\n",
       "<table border=\"1\" class=\"dataframe\">\n",
       "  <thead>\n",
       "    <tr style=\"text-align: right;\">\n",
       "      <th></th>\n",
       "      <th>drug_concept_id</th>\n",
       "      <th>outcome_concept_id</th>\n",
       "      <th>snomed_outcome_concept_id</th>\n",
       "      <th>case_count</th>\n",
       "      <th>prr</th>\n",
       "      <th>prr_95_upper</th>\n",
       "      <th>prr_95_lower</th>\n",
       "      <th>ror</th>\n",
       "      <th>ror_95_upper</th>\n",
       "      <th>ror_95_lower</th>\n",
       "    </tr>\n",
       "  </thead>\n",
       "  <tbody>\n",
       "    <tr>\n",
       "      <th>0</th>\n",
       "      <td>918906</td>\n",
       "      <td>35104067</td>\n",
       "      <td>432588</td>\n",
       "      <td>1</td>\n",
       "      <td>1.10027</td>\n",
       "      <td>7.82057</td>\n",
       "      <td>0.15480</td>\n",
       "      <td>1.10027</td>\n",
       "      <td>7.82080</td>\n",
       "      <td>0.15479</td>\n",
       "    </tr>\n",
       "    <tr>\n",
       "      <th>1</th>\n",
       "      <td>19080406</td>\n",
       "      <td>35104070</td>\n",
       "      <td>436659</td>\n",
       "      <td>1</td>\n",
       "      <td>2.60101</td>\n",
       "      <td>18.45177</td>\n",
       "      <td>0.36665</td>\n",
       "      <td>2.60230</td>\n",
       "      <td>18.49021</td>\n",
       "      <td>0.36625</td>\n",
       "    </tr>\n",
       "    <tr>\n",
       "      <th>2</th>\n",
       "      <td>1115572</td>\n",
       "      <td>35104074</td>\n",
       "      <td>439777</td>\n",
       "      <td>108</td>\n",
       "      <td>0.53708</td>\n",
       "      <td>0.64839</td>\n",
       "      <td>0.44488</td>\n",
       "      <td>0.53570</td>\n",
       "      <td>0.64709</td>\n",
       "      <td>0.44348</td>\n",
       "    </tr>\n",
       "    <tr>\n",
       "      <th>3</th>\n",
       "      <td>1315027</td>\n",
       "      <td>35104074</td>\n",
       "      <td>439777</td>\n",
       "      <td>12</td>\n",
       "      <td>0.53124</td>\n",
       "      <td>0.93466</td>\n",
       "      <td>0.30194</td>\n",
       "      <td>0.52985</td>\n",
       "      <td>0.93379</td>\n",
       "      <td>0.30065</td>\n",
       "    </tr>\n",
       "    <tr>\n",
       "      <th>4</th>\n",
       "      <td>43526424</td>\n",
       "      <td>35104074</td>\n",
       "      <td>439777</td>\n",
       "      <td>65</td>\n",
       "      <td>0.12473</td>\n",
       "      <td>0.15905</td>\n",
       "      <td>0.09782</td>\n",
       "      <td>0.12412</td>\n",
       "      <td>0.15830</td>\n",
       "      <td>0.09733</td>\n",
       "    </tr>\n",
       "  </tbody>\n",
       "</table>\n",
       "</div>"
      ],
      "text/plain": [
       "   drug_concept_id  outcome_concept_id snomed_outcome_concept_id  case_count  \\\n",
       "0           918906            35104067                    432588           1   \n",
       "1         19080406            35104070                    436659           1   \n",
       "2          1115572            35104074                    439777         108   \n",
       "3          1315027            35104074                    439777          12   \n",
       "4         43526424            35104074                    439777          65   \n",
       "\n",
       "       prr prr_95_upper prr_95_lower      ror ror_95_upper ror_95_lower  \n",
       "0  1.10027      7.82057      0.15480  1.10027      7.82080      0.15479  \n",
       "1  2.60101     18.45177      0.36665  2.60230     18.49021      0.36625  \n",
       "2  0.53708      0.64839      0.44488  0.53570      0.64709      0.44348  \n",
       "3  0.53124      0.93466      0.30194  0.52985      0.93379      0.30065  \n",
       "4  0.12473      0.15905      0.09782  0.12412      0.15830      0.09733  "
      ]
     },
     "execution_count": 52,
     "metadata": {},
     "output_type": "execute_result"
    }
   ],
   "source": [
    "AE.head()"
   ]
  },
  {
   "cell_type": "markdown",
   "metadata": {
    "deletable": true,
    "editable": true
   },
   "source": [
    "## 1-3 Remove unreliable AE data\n",
    "\n",
    "### Collect only True Positive AE (OR 95%CI lower > 1) and True Negative AE (OR 95%CI upper < 1)"
   ]
  },
  {
   "cell_type": "code",
   "execution_count": 101,
   "metadata": {
    "collapsed": false,
    "deletable": true,
    "editable": true
   },
   "outputs": [
    {
     "data": {
      "text/html": [
       "<div>\n",
       "<table border=\"1\" class=\"dataframe\">\n",
       "  <thead>\n",
       "    <tr style=\"text-align: right;\">\n",
       "      <th></th>\n",
       "      <th>drug_concept_id</th>\n",
       "      <th>outcome_concept_id</th>\n",
       "      <th>case_count</th>\n",
       "      <th>ror</th>\n",
       "      <th>ror_95_upper</th>\n",
       "      <th>ror_95_lower</th>\n",
       "    </tr>\n",
       "  </thead>\n",
       "  <tbody>\n",
       "    <tr>\n",
       "      <th>0</th>\n",
       "      <td>918906</td>\n",
       "      <td>35104067</td>\n",
       "      <td>1</td>\n",
       "      <td>1.10027</td>\n",
       "      <td>7.82080</td>\n",
       "      <td>0.15479</td>\n",
       "    </tr>\n",
       "    <tr>\n",
       "      <th>1</th>\n",
       "      <td>19080406</td>\n",
       "      <td>35104070</td>\n",
       "      <td>1</td>\n",
       "      <td>2.60230</td>\n",
       "      <td>18.49021</td>\n",
       "      <td>0.36625</td>\n",
       "    </tr>\n",
       "    <tr>\n",
       "      <th>2</th>\n",
       "      <td>1115572</td>\n",
       "      <td>35104074</td>\n",
       "      <td>108</td>\n",
       "      <td>0.53570</td>\n",
       "      <td>0.64709</td>\n",
       "      <td>0.44348</td>\n",
       "    </tr>\n",
       "    <tr>\n",
       "      <th>3</th>\n",
       "      <td>1315027</td>\n",
       "      <td>35104074</td>\n",
       "      <td>12</td>\n",
       "      <td>0.52985</td>\n",
       "      <td>0.93379</td>\n",
       "      <td>0.30065</td>\n",
       "    </tr>\n",
       "    <tr>\n",
       "      <th>4</th>\n",
       "      <td>43526424</td>\n",
       "      <td>35104074</td>\n",
       "      <td>65</td>\n",
       "      <td>0.12412</td>\n",
       "      <td>0.15830</td>\n",
       "      <td>0.09733</td>\n",
       "    </tr>\n",
       "  </tbody>\n",
       "</table>\n",
       "</div>"
      ],
      "text/plain": [
       "   drug_concept_id  outcome_concept_id  case_count      ror ror_95_upper  \\\n",
       "0           918906            35104067           1  1.10027      7.82080   \n",
       "1         19080406            35104070           1  2.60230     18.49021   \n",
       "2          1115572            35104074         108  0.53570      0.64709   \n",
       "3          1315027            35104074          12  0.52985      0.93379   \n",
       "4         43526424            35104074          65  0.12412      0.15830   \n",
       "\n",
       "  ror_95_lower  \n",
       "0      0.15479  \n",
       "1      0.36625  \n",
       "2      0.44348  \n",
       "3      0.30065  \n",
       "4      0.09733  "
      ]
     },
     "metadata": {},
     "output_type": "display_data"
    },
    {
     "name": "stdout",
     "output_type": "stream",
     "text": [
      "66332 of data are removed.\n"
     ]
    }
   ],
   "source": [
    "# remove those that do not contain Odds Ratios, mostly single digit case_count\n",
    "idx = AE.ror.str.contains('\\N')\n",
    "AE2 = AE[~idx.fillna(True)].loc[:,['drug_concept_id', 'outcome_concept_id', 'case_count', 'ror', 'ror_95_upper', 'ror_95_lower']]\n",
    "display(AE2.head())\n",
    "print \"%d of data are removed.\" %(AE.shape[0] - AE2.shape[0])"
   ]
  },
  {
   "cell_type": "code",
   "execution_count": 103,
   "metadata": {
    "collapsed": false,
    "deletable": true,
    "editable": true
   },
   "outputs": [],
   "source": [
    "# convert ror to float\n",
    "AE2.loc[:,['ror','ror_95_upper','ror_95_lower']] = AE2.loc[:,['ror','ror_95_upper','ror_95_lower']].astype(float)"
   ]
  },
  {
   "cell_type": "code",
   "execution_count": 107,
   "metadata": {
    "collapsed": false,
    "deletable": true,
    "editable": true
   },
   "outputs": [],
   "source": [
    "idx_p = AE2.ror_95_lower >= 1\n",
    "AE_p = AE2[idx_p]\n",
    "\n",
    "idx_n = AE2.ror_95_upper < 1\n",
    "AE_n = AE2[idx_n]"
   ]
  },
  {
   "cell_type": "code",
   "execution_count": 110,
   "metadata": {
    "collapsed": false,
    "deletable": true,
    "editable": true,
    "scrolled": true
   },
   "outputs": [
    {
     "data": {
      "text/html": [
       "<div>\n",
       "<table border=\"1\" class=\"dataframe\">\n",
       "  <thead>\n",
       "    <tr style=\"text-align: right;\">\n",
       "      <th></th>\n",
       "      <th>drug_concept_id</th>\n",
       "      <th>outcome_concept_id</th>\n",
       "      <th>case_count</th>\n",
       "      <th>ror</th>\n",
       "      <th>ror_95_upper</th>\n",
       "      <th>ror_95_lower</th>\n",
       "    </tr>\n",
       "  </thead>\n",
       "  <tbody>\n",
       "    <tr>\n",
       "      <th>5</th>\n",
       "      <td>501343</td>\n",
       "      <td>35104078</td>\n",
       "      <td>1</td>\n",
       "      <td>63.74335</td>\n",
       "      <td>454.98472</td>\n",
       "      <td>8.93044</td>\n",
       "    </tr>\n",
       "    <tr>\n",
       "      <th>6</th>\n",
       "      <td>529411</td>\n",
       "      <td>35104078</td>\n",
       "      <td>1</td>\n",
       "      <td>15.46275</td>\n",
       "      <td>109.93527</td>\n",
       "      <td>2.17489</td>\n",
       "    </tr>\n",
       "    <tr>\n",
       "      <th>7</th>\n",
       "      <td>529660</td>\n",
       "      <td>35104078</td>\n",
       "      <td>1</td>\n",
       "      <td>16.43847</td>\n",
       "      <td>116.88161</td>\n",
       "      <td>2.31194</td>\n",
       "    </tr>\n",
       "    <tr>\n",
       "      <th>8</th>\n",
       "      <td>700253</td>\n",
       "      <td>35104078</td>\n",
       "      <td>2</td>\n",
       "      <td>4.32361</td>\n",
       "      <td>17.29720</td>\n",
       "      <td>1.08073</td>\n",
       "    </tr>\n",
       "    <tr>\n",
       "      <th>12</th>\n",
       "      <td>704943</td>\n",
       "      <td>35104078</td>\n",
       "      <td>7</td>\n",
       "      <td>2.95493</td>\n",
       "      <td>6.20212</td>\n",
       "      <td>1.40785</td>\n",
       "    </tr>\n",
       "  </tbody>\n",
       "</table>\n",
       "</div>"
      ],
      "text/plain": [
       "    drug_concept_id  outcome_concept_id  case_count       ror  ror_95_upper  \\\n",
       "5            501343            35104078           1  63.74335     454.98472   \n",
       "6            529411            35104078           1  15.46275     109.93527   \n",
       "7            529660            35104078           1  16.43847     116.88161   \n",
       "8            700253            35104078           2   4.32361      17.29720   \n",
       "12           704943            35104078           7   2.95493       6.20212   \n",
       "\n",
       "    ror_95_lower  \n",
       "5        8.93044  \n",
       "6        2.17489  \n",
       "7        2.31194  \n",
       "8        1.08073  \n",
       "12       1.40785  "
      ]
     },
     "metadata": {},
     "output_type": "display_data"
    },
    {
     "data": {
      "text/html": [
       "<div>\n",
       "<table border=\"1\" class=\"dataframe\">\n",
       "  <thead>\n",
       "    <tr style=\"text-align: right;\">\n",
       "      <th></th>\n",
       "      <th>drug_concept_id</th>\n",
       "      <th>outcome_concept_id</th>\n",
       "      <th>case_count</th>\n",
       "      <th>ror</th>\n",
       "      <th>ror_95_upper</th>\n",
       "      <th>ror_95_lower</th>\n",
       "    </tr>\n",
       "  </thead>\n",
       "  <tbody>\n",
       "    <tr>\n",
       "      <th>2</th>\n",
       "      <td>1115572</td>\n",
       "      <td>35104074</td>\n",
       "      <td>108</td>\n",
       "      <td>0.53570</td>\n",
       "      <td>0.64709</td>\n",
       "      <td>0.44348</td>\n",
       "    </tr>\n",
       "    <tr>\n",
       "      <th>3</th>\n",
       "      <td>1315027</td>\n",
       "      <td>35104074</td>\n",
       "      <td>12</td>\n",
       "      <td>0.52985</td>\n",
       "      <td>0.93379</td>\n",
       "      <td>0.30065</td>\n",
       "    </tr>\n",
       "    <tr>\n",
       "      <th>4</th>\n",
       "      <td>43526424</td>\n",
       "      <td>35104074</td>\n",
       "      <td>65</td>\n",
       "      <td>0.12412</td>\n",
       "      <td>0.15830</td>\n",
       "      <td>0.09733</td>\n",
       "    </tr>\n",
       "    <tr>\n",
       "      <th>13</th>\n",
       "      <td>705103</td>\n",
       "      <td>35104078</td>\n",
       "      <td>3</td>\n",
       "      <td>0.19179</td>\n",
       "      <td>0.59488</td>\n",
       "      <td>0.06183</td>\n",
       "    </tr>\n",
       "    <tr>\n",
       "      <th>14</th>\n",
       "      <td>705944</td>\n",
       "      <td>35104078</td>\n",
       "      <td>1</td>\n",
       "      <td>0.12864</td>\n",
       "      <td>0.91344</td>\n",
       "      <td>0.01812</td>\n",
       "    </tr>\n",
       "  </tbody>\n",
       "</table>\n",
       "</div>"
      ],
      "text/plain": [
       "    drug_concept_id  outcome_concept_id  case_count      ror  ror_95_upper  \\\n",
       "2           1115572            35104074         108  0.53570       0.64709   \n",
       "3           1315027            35104074          12  0.52985       0.93379   \n",
       "4          43526424            35104074          65  0.12412       0.15830   \n",
       "13           705103            35104078           3  0.19179       0.59488   \n",
       "14           705944            35104078           1  0.12864       0.91344   \n",
       "\n",
       "    ror_95_lower  \n",
       "2        0.44348  \n",
       "3        0.30065  \n",
       "4        0.09733  \n",
       "13       0.06183  \n",
       "14       0.01812  "
      ]
     },
     "metadata": {},
     "output_type": "display_data"
    },
    {
     "name": "stdout",
     "output_type": "stream",
     "text": [
      "OD >=1:  1030714\n",
      "OD < 1:  287370\n"
     ]
    }
   ],
   "source": [
    "display(AE_p.head())\n",
    "display(AE_n.head())\n",
    "print \"OD >=1: \", AE_p.shape[0]\n",
    "print \"OD < 1: \", AE_n.shape[0]"
   ]
  },
  {
   "cell_type": "markdown",
   "metadata": {
    "deletable": true,
    "editable": true
   },
   "source": [
    "## 1-4 Map 'Drug Names' and 'Outcome Names' into above tables"
   ]
  },
  {
   "cell_type": "code",
   "execution_count": 96,
   "metadata": {
    "collapsed": false,
    "deletable": true,
    "editable": true
   },
   "outputs": [],
   "source": [
    "def drugname_lookup(ID):\n",
    "    tmp = lookup.loc[lookup.ID == ID, 1].values\n",
    "    if tmp.size > 0:\n",
    "        drugname = tmp[0]\n",
    "    else :\n",
    "        drugname = np.nan\n",
    "    return drugname"
   ]
  },
  {
   "cell_type": "code",
   "execution_count": 64,
   "metadata": {
    "collapsed": true,
    "deletable": true,
    "editable": true
   },
   "outputs": [],
   "source": [
    "AE_n['drug_name'] = AE_n.drug_concept_id.apply(drugname_lookup)"
   ]
  },
  {
   "cell_type": "code",
   "execution_count": 97,
   "metadata": {
    "collapsed": false,
    "deletable": true,
    "editable": true
   },
   "outputs": [],
   "source": [
    "AE_n['outcome_name'] = AE_n.outcome_concept_id.apply(drugname_lookup)"
   ]
  },
  {
   "cell_type": "code",
   "execution_count": 98,
   "metadata": {
    "collapsed": false,
    "deletable": true,
    "editable": true
   },
   "outputs": [
    {
     "name": "stdout",
     "output_type": "stream",
     "text": [
      "287315 of AE_n in total\n",
      "0 of AE_n NA in drug name\n",
      "287315 of AE_n after dropping NAs\n"
     ]
    }
   ],
   "source": [
    "print \"%d of AE_n in total\" %(AE_n.shape[0])\n",
    "print \"%d of AE_n NA in drug name\" %(sum(AE_n.drug_name.isnull()))\n",
    "AE_n.dropna(inplace=True) # drop all the NA\n",
    "print \"%d of AE_n after dropping NAs\" %(AE_n.shape[0])"
   ]
  },
  {
   "cell_type": "code",
   "execution_count": 68,
   "metadata": {
    "collapsed": false,
    "deletable": true,
    "editable": true
   },
   "outputs": [],
   "source": [
    "AE_p['drug_name'] = AE_p.drug_concept_id.apply(drugname_lookup)"
   ]
  },
  {
   "cell_type": "code",
   "execution_count": 100,
   "metadata": {
    "collapsed": true,
    "deletable": true,
    "editable": true
   },
   "outputs": [],
   "source": [
    "AE_p['outcome_name'] = AE_p.outcome_concept_id.apply(drugname_lookup)"
   ]
  },
  {
   "cell_type": "code",
   "execution_count": 92,
   "metadata": {
    "collapsed": false,
    "deletable": true,
    "editable": true
   },
   "outputs": [
    {
     "name": "stdout",
     "output_type": "stream",
     "text": [
      "1030714 of AE_p in total\n",
      "3500 of AE_p NA in drug name\n",
      "1027214 of AE_p after dropping NAs\n"
     ]
    }
   ],
   "source": [
    "print \"%d of AE_p in total\" %(AE_p.shape[0])\n",
    "print \"%d of AE_p NA in drug name\" %(sum(AE_p.drug_name.isnull()))\n",
    "AE_p.dropna(inplace=True)\n",
    "print \"%d of AE_p after dropping NAs\" %(AE_p.shape[0])"
   ]
  },
  {
   "cell_type": "code",
   "execution_count": 101,
   "metadata": {
    "collapsed": false,
    "deletable": true,
    "editable": true,
    "scrolled": true
   },
   "outputs": [
    {
     "data": {
      "text/html": [
       "<div>\n",
       "<table border=\"1\" class=\"dataframe\">\n",
       "  <thead>\n",
       "    <tr style=\"text-align: right;\">\n",
       "      <th></th>\n",
       "      <th>drug_concept_id</th>\n",
       "      <th>outcome_concept_id</th>\n",
       "      <th>case_count</th>\n",
       "      <th>ror</th>\n",
       "      <th>ror_95_upper</th>\n",
       "      <th>ror_95_lower</th>\n",
       "      <th>drug_name</th>\n",
       "      <th>outcome_name</th>\n",
       "    </tr>\n",
       "  </thead>\n",
       "  <tbody>\n",
       "    <tr>\n",
       "      <th>5</th>\n",
       "      <td>501343</td>\n",
       "      <td>35104078</td>\n",
       "      <td>1</td>\n",
       "      <td>63.74335</td>\n",
       "      <td>454.98472</td>\n",
       "      <td>8.93044</td>\n",
       "      <td>hepatitis b immune globulin</td>\n",
       "      <td>anaemia postoperative</td>\n",
       "    </tr>\n",
       "    <tr>\n",
       "      <th>6</th>\n",
       "      <td>529411</td>\n",
       "      <td>35104078</td>\n",
       "      <td>1</td>\n",
       "      <td>15.46275</td>\n",
       "      <td>109.93527</td>\n",
       "      <td>2.17489</td>\n",
       "      <td>tetanus toxoid vaccine, inactivated</td>\n",
       "      <td>anaemia postoperative</td>\n",
       "    </tr>\n",
       "    <tr>\n",
       "      <th>7</th>\n",
       "      <td>529660</td>\n",
       "      <td>35104078</td>\n",
       "      <td>1</td>\n",
       "      <td>16.43847</td>\n",
       "      <td>116.88161</td>\n",
       "      <td>2.31194</td>\n",
       "      <td>hepatitis a vaccine (inactivated) strain hm175</td>\n",
       "      <td>anaemia postoperative</td>\n",
       "    </tr>\n",
       "    <tr>\n",
       "      <th>8</th>\n",
       "      <td>700253</td>\n",
       "      <td>35104078</td>\n",
       "      <td>2</td>\n",
       "      <td>4.32361</td>\n",
       "      <td>17.29720</td>\n",
       "      <td>1.08073</td>\n",
       "      <td>thiopental</td>\n",
       "      <td>anaemia postoperative</td>\n",
       "    </tr>\n",
       "    <tr>\n",
       "      <th>12</th>\n",
       "      <td>704943</td>\n",
       "      <td>35104078</td>\n",
       "      <td>7</td>\n",
       "      <td>2.95493</td>\n",
       "      <td>6.20212</td>\n",
       "      <td>1.40785</td>\n",
       "      <td>methocarbamol</td>\n",
       "      <td>anaemia postoperative</td>\n",
       "    </tr>\n",
       "  </tbody>\n",
       "</table>\n",
       "</div>"
      ],
      "text/plain": [
       "    drug_concept_id  outcome_concept_id  case_count       ror  ror_95_upper  \\\n",
       "5            501343            35104078           1  63.74335     454.98472   \n",
       "6            529411            35104078           1  15.46275     109.93527   \n",
       "7            529660            35104078           1  16.43847     116.88161   \n",
       "8            700253            35104078           2   4.32361      17.29720   \n",
       "12           704943            35104078           7   2.95493       6.20212   \n",
       "\n",
       "    ror_95_lower                                       drug_name  \\\n",
       "5        8.93044                     hepatitis b immune globulin   \n",
       "6        2.17489             tetanus toxoid vaccine, inactivated   \n",
       "7        2.31194  hepatitis a vaccine (inactivated) strain hm175   \n",
       "8        1.08073                                      thiopental   \n",
       "12       1.40785                                   methocarbamol   \n",
       "\n",
       "             outcome_name  \n",
       "5   anaemia postoperative  \n",
       "6   anaemia postoperative  \n",
       "7   anaemia postoperative  \n",
       "8   anaemia postoperative  \n",
       "12  anaemia postoperative  "
      ]
     },
     "metadata": {},
     "output_type": "display_data"
    },
    {
     "data": {
      "text/html": [
       "<div>\n",
       "<table border=\"1\" class=\"dataframe\">\n",
       "  <thead>\n",
       "    <tr style=\"text-align: right;\">\n",
       "      <th></th>\n",
       "      <th>drug_concept_id</th>\n",
       "      <th>outcome_concept_id</th>\n",
       "      <th>case_count</th>\n",
       "      <th>ror</th>\n",
       "      <th>ror_95_upper</th>\n",
       "      <th>ror_95_lower</th>\n",
       "      <th>drug_name</th>\n",
       "      <th>outcome_name</th>\n",
       "    </tr>\n",
       "  </thead>\n",
       "  <tbody>\n",
       "    <tr>\n",
       "      <th>2</th>\n",
       "      <td>1115572</td>\n",
       "      <td>35104074</td>\n",
       "      <td>108</td>\n",
       "      <td>0.53570</td>\n",
       "      <td>0.64709</td>\n",
       "      <td>0.44348</td>\n",
       "      <td>beclomethasone</td>\n",
       "      <td>anaemia</td>\n",
       "    </tr>\n",
       "    <tr>\n",
       "      <th>3</th>\n",
       "      <td>1315027</td>\n",
       "      <td>35104074</td>\n",
       "      <td>12</td>\n",
       "      <td>0.52985</td>\n",
       "      <td>0.93379</td>\n",
       "      <td>0.30065</td>\n",
       "      <td>cranberry preparation</td>\n",
       "      <td>anaemia</td>\n",
       "    </tr>\n",
       "    <tr>\n",
       "      <th>4</th>\n",
       "      <td>43526424</td>\n",
       "      <td>35104074</td>\n",
       "      <td>65</td>\n",
       "      <td>0.12412</td>\n",
       "      <td>0.15830</td>\n",
       "      <td>0.09733</td>\n",
       "      <td>dimethyl fumarate</td>\n",
       "      <td>anaemia</td>\n",
       "    </tr>\n",
       "    <tr>\n",
       "      <th>13</th>\n",
       "      <td>705103</td>\n",
       "      <td>35104078</td>\n",
       "      <td>3</td>\n",
       "      <td>0.19179</td>\n",
       "      <td>0.59488</td>\n",
       "      <td>0.06183</td>\n",
       "      <td>lamotrigine</td>\n",
       "      <td>anaemia postoperative</td>\n",
       "    </tr>\n",
       "    <tr>\n",
       "      <th>14</th>\n",
       "      <td>705944</td>\n",
       "      <td>35104078</td>\n",
       "      <td>1</td>\n",
       "      <td>0.12864</td>\n",
       "      <td>0.91344</td>\n",
       "      <td>0.01812</td>\n",
       "      <td>methylphenidate</td>\n",
       "      <td>anaemia postoperative</td>\n",
       "    </tr>\n",
       "  </tbody>\n",
       "</table>\n",
       "</div>"
      ],
      "text/plain": [
       "    drug_concept_id  outcome_concept_id  case_count      ror  ror_95_upper  \\\n",
       "2           1115572            35104074         108  0.53570       0.64709   \n",
       "3           1315027            35104074          12  0.52985       0.93379   \n",
       "4          43526424            35104074          65  0.12412       0.15830   \n",
       "13           705103            35104078           3  0.19179       0.59488   \n",
       "14           705944            35104078           1  0.12864       0.91344   \n",
       "\n",
       "    ror_95_lower              drug_name           outcome_name  \n",
       "2        0.44348         beclomethasone                anaemia  \n",
       "3        0.30065  cranberry preparation                anaemia  \n",
       "4        0.09733      dimethyl fumarate                anaemia  \n",
       "13       0.06183            lamotrigine  anaemia postoperative  \n",
       "14       0.01812        methylphenidate  anaemia postoperative  "
      ]
     },
     "metadata": {},
     "output_type": "display_data"
    }
   ],
   "source": [
    "display(AE_p.head())\n",
    "display(AE_n.head())"
   ]
  },
  {
   "cell_type": "code",
   "execution_count": 105,
   "metadata": {
    "collapsed": false,
    "deletable": true,
    "editable": true
   },
   "outputs": [],
   "source": [
    "AE_n.to_csv('.../AE_n.csv', index=None)\n",
    "AE_p.to_csv('.../AE_p.csv', index=None)\n",
    "AE_p.append(AE_n).to_csv('.../AE_all.csv', index=None)"
   ]
  },
  {
   "cell_type": "markdown",
   "metadata": {
    "deletable": true,
    "editable": true
   },
   "source": [
    "## 1-5 Calculate 'Average' Odds Ratio for each drug that has ingredient info"
   ]
  },
  {
   "cell_type": "markdown",
   "metadata": {
    "deletable": true,
    "editable": true
   },
   "source": [
    "For the following table, we are going to add few more columns including **'average' Odds Ratio**, which will be used to calculate **'problematic level'**"
   ]
  },
  {
   "cell_type": "code",
   "execution_count": 33,
   "metadata": {
    "collapsed": false,
    "deletable": true,
    "editable": true,
    "scrolled": true
   },
   "outputs": [
    {
     "data": {
      "text/html": [
       "<div>\n",
       "<table border=\"1\" class=\"dataframe\">\n",
       "  <thead>\n",
       "    <tr style=\"text-align: right;\">\n",
       "      <th></th>\n",
       "      <th>drug</th>\n",
       "      <th>0</th>\n",
       "      <th>1</th>\n",
       "      <th>2</th>\n",
       "      <th>3</th>\n",
       "      <th>4</th>\n",
       "      <th>5</th>\n",
       "      <th>6</th>\n",
       "      <th>7</th>\n",
       "      <th>8</th>\n",
       "      <th>9</th>\n",
       "      <th>10</th>\n",
       "      <th>11</th>\n",
       "      <th>12</th>\n",
       "    </tr>\n",
       "  </thead>\n",
       "  <tbody>\n",
       "    <tr>\n",
       "      <th>0</th>\n",
       "      <td>8-hour bayer</td>\n",
       "      <td>aspirin</td>\n",
       "      <td>NaN</td>\n",
       "      <td>NaN</td>\n",
       "      <td>NaN</td>\n",
       "      <td>NaN</td>\n",
       "      <td>NaN</td>\n",
       "      <td>NaN</td>\n",
       "      <td>NaN</td>\n",
       "      <td>NaN</td>\n",
       "      <td>NaN</td>\n",
       "      <td>NaN</td>\n",
       "      <td>NaN</td>\n",
       "      <td>NaN</td>\n",
       "    </tr>\n",
       "    <tr>\n",
       "      <th>1</th>\n",
       "      <td>8-mop</td>\n",
       "      <td>methoxsalen</td>\n",
       "      <td>NaN</td>\n",
       "      <td>NaN</td>\n",
       "      <td>NaN</td>\n",
       "      <td>NaN</td>\n",
       "      <td>NaN</td>\n",
       "      <td>NaN</td>\n",
       "      <td>NaN</td>\n",
       "      <td>NaN</td>\n",
       "      <td>NaN</td>\n",
       "      <td>NaN</td>\n",
       "      <td>NaN</td>\n",
       "      <td>NaN</td>\n",
       "    </tr>\n",
       "    <tr>\n",
       "      <th>2</th>\n",
       "      <td>a-hydrocort</td>\n",
       "      <td>hydrocortisone sodium succinate</td>\n",
       "      <td>NaN</td>\n",
       "      <td>NaN</td>\n",
       "      <td>NaN</td>\n",
       "      <td>NaN</td>\n",
       "      <td>NaN</td>\n",
       "      <td>NaN</td>\n",
       "      <td>NaN</td>\n",
       "      <td>NaN</td>\n",
       "      <td>NaN</td>\n",
       "      <td>NaN</td>\n",
       "      <td>NaN</td>\n",
       "      <td>NaN</td>\n",
       "    </tr>\n",
       "    <tr>\n",
       "      <th>3</th>\n",
       "      <td>a-methapred</td>\n",
       "      <td>methylprednisolone sodium succinate</td>\n",
       "      <td>NaN</td>\n",
       "      <td>NaN</td>\n",
       "      <td>NaN</td>\n",
       "      <td>NaN</td>\n",
       "      <td>NaN</td>\n",
       "      <td>NaN</td>\n",
       "      <td>NaN</td>\n",
       "      <td>NaN</td>\n",
       "      <td>NaN</td>\n",
       "      <td>NaN</td>\n",
       "      <td>NaN</td>\n",
       "      <td>NaN</td>\n",
       "    </tr>\n",
       "    <tr>\n",
       "      <th>4</th>\n",
       "      <td>a-n stannous aggregated albumin</td>\n",
       "      <td>technetium tc-99m albumin aggregated kit</td>\n",
       "      <td>NaN</td>\n",
       "      <td>NaN</td>\n",
       "      <td>NaN</td>\n",
       "      <td>NaN</td>\n",
       "      <td>NaN</td>\n",
       "      <td>NaN</td>\n",
       "      <td>NaN</td>\n",
       "      <td>NaN</td>\n",
       "      <td>NaN</td>\n",
       "      <td>NaN</td>\n",
       "      <td>NaN</td>\n",
       "      <td>NaN</td>\n",
       "    </tr>\n",
       "  </tbody>\n",
       "</table>\n",
       "</div>"
      ],
      "text/plain": [
       "                              drug                                         0  \\\n",
       "0                     8-hour bayer                                   aspirin   \n",
       "1                            8-mop                               methoxsalen   \n",
       "2                      a-hydrocort           hydrocortisone sodium succinate   \n",
       "3                      a-methapred       methylprednisolone sodium succinate   \n",
       "4  a-n stannous aggregated albumin  technetium tc-99m albumin aggregated kit   \n",
       "\n",
       "     1    2    3    4    5    6    7    8    9   10   11   12  \n",
       "0  NaN  NaN  NaN  NaN  NaN  NaN  NaN  NaN  NaN  NaN  NaN  NaN  \n",
       "1  NaN  NaN  NaN  NaN  NaN  NaN  NaN  NaN  NaN  NaN  NaN  NaN  \n",
       "2  NaN  NaN  NaN  NaN  NaN  NaN  NaN  NaN  NaN  NaN  NaN  NaN  \n",
       "3  NaN  NaN  NaN  NaN  NaN  NaN  NaN  NaN  NaN  NaN  NaN  NaN  \n",
       "4  NaN  NaN  NaN  NaN  NaN  NaN  NaN  NaN  NaN  NaN  NaN  NaN  "
      ]
     },
     "execution_count": 33,
     "metadata": {},
     "output_type": "execute_result"
    }
   ],
   "source": [
    "drug_dict_df.head()"
   ]
  },
  {
   "cell_type": "markdown",
   "metadata": {
    "deletable": true,
    "editable": true
   },
   "source": [
    "To calculate the average score, for a given drug name, we find ALL the AE cases reported under that drug name, calculate basic statistics. If drug name search does not find any, use the drug's 1st ingredient and search again. This is because **some AE cases use generic drug name rather than the brand name**.  "
   ]
  },
  {
   "cell_type": "code",
   "execution_count": 162,
   "metadata": {
    "collapsed": false,
    "deletable": true,
    "editable": true
   },
   "outputs": [
    {
     "name": "stdout",
     "output_type": "stream",
     "text": [
      " 6848 out of 6848"
     ]
    }
   ],
   "source": [
    "# next time starts from n = 1409\n",
    "drug_stats = {}\n",
    "counter = 0\n",
    "length = len(drug_dict.keys())\n",
    "for i, name in enumerate(drug_dict_df.drug):   \n",
    "    counter += 1\n",
    "    drug_name = name    \n",
    "    idx_p = AE_p.drug_name.str.contains(name)\n",
    "    idx_n = AE_n.drug_name.str.contains(name)\n",
    "\n",
    "    num_p = sum(idx_p) # number of pos reports\n",
    "    num_n = sum(idx_n) # number of neg reports\n",
    "\n",
    "    if (num_p == 0) & (num_n == 0): # if the drugname does not match the name in AE, use the drug-ingredient\n",
    "        name = drug_dict_df.loc[i,0]\n",
    "\n",
    "        idx_p = AE_p.drug_name.str.contains(name)\n",
    "        idx_n = AE_n.drug_name.str.contains(name)\n",
    "\n",
    "        num_p = sum(idx_p) # number of pos reports\n",
    "        num_n = sum(idx_n) # number of neg reports\n",
    "    \n",
    "    tot_OD_p = AE_p.loc[idx_p,'ror'].sum()\n",
    "    tot_OD_n = AE_n.loc[idx_n,'ror'].sum()\n",
    "    avg_OD_p = AE_p.loc[idx_p,'ror'].mean()\n",
    "    avg_OD_n = AE_n.loc[idx_n,'ror'].mean()\n",
    "    \n",
    "    drug_stats[drug_name] = [num_p, num_n, tot_OD_p, tot_OD_n, avg_OD_p, avg_OD_n]\n",
    "    \n",
    "    sys.stdout.write('\\r %d out of %d' %(counter, length))\n",
    "    sys.stdout.flush()"
   ]
  },
  {
   "cell_type": "code",
   "execution_count": 163,
   "metadata": {
    "collapsed": false,
    "deletable": true,
    "editable": true
   },
   "outputs": [
    {
     "name": "stdout",
     "output_type": "stream",
     "text": [
      "(6811, 7)\n"
     ]
    },
    {
     "data": {
      "text/html": [
       "<div>\n",
       "<table border=\"1\" class=\"dataframe\">\n",
       "  <thead>\n",
       "    <tr style=\"text-align: right;\">\n",
       "      <th></th>\n",
       "      <th>drug</th>\n",
       "      <th>num_p</th>\n",
       "      <th>num_n</th>\n",
       "      <th>tot_OD_p</th>\n",
       "      <th>tot_OD_n</th>\n",
       "      <th>avg_OD_p</th>\n",
       "      <th>avg_OD_n</th>\n",
       "    </tr>\n",
       "  </thead>\n",
       "  <tbody>\n",
       "    <tr>\n",
       "      <th>0</th>\n",
       "      <td>8-hour bayer</td>\n",
       "      <td>2645.0</td>\n",
       "      <td>1685.0</td>\n",
       "      <td>234588.97006</td>\n",
       "      <td>858.09978</td>\n",
       "      <td>88.691482</td>\n",
       "      <td>0.509258</td>\n",
       "    </tr>\n",
       "    <tr>\n",
       "      <th>1</th>\n",
       "      <td>8-mop</td>\n",
       "      <td>189.0</td>\n",
       "      <td>0.0</td>\n",
       "      <td>28518.76649</td>\n",
       "      <td>0.00000</td>\n",
       "      <td>150.892944</td>\n",
       "      <td>NaN</td>\n",
       "    </tr>\n",
       "    <tr>\n",
       "      <th>2</th>\n",
       "      <td>a-hydrocort</td>\n",
       "      <td>0.0</td>\n",
       "      <td>0.0</td>\n",
       "      <td>0.00000</td>\n",
       "      <td>0.00000</td>\n",
       "      <td>NaN</td>\n",
       "      <td>NaN</td>\n",
       "    </tr>\n",
       "    <tr>\n",
       "      <th>3</th>\n",
       "      <td>a-methapred</td>\n",
       "      <td>0.0</td>\n",
       "      <td>0.0</td>\n",
       "      <td>0.00000</td>\n",
       "      <td>0.00000</td>\n",
       "      <td>NaN</td>\n",
       "      <td>NaN</td>\n",
       "    </tr>\n",
       "    <tr>\n",
       "      <th>4</th>\n",
       "      <td>a-n stannous aggregated albumin</td>\n",
       "      <td>0.0</td>\n",
       "      <td>0.0</td>\n",
       "      <td>0.00000</td>\n",
       "      <td>0.00000</td>\n",
       "      <td>NaN</td>\n",
       "      <td>NaN</td>\n",
       "    </tr>\n",
       "  </tbody>\n",
       "</table>\n",
       "</div>"
      ],
      "text/plain": [
       "                              drug   num_p   num_n      tot_OD_p   tot_OD_n  \\\n",
       "0                     8-hour bayer  2645.0  1685.0  234588.97006  858.09978   \n",
       "1                            8-mop   189.0     0.0   28518.76649    0.00000   \n",
       "2                      a-hydrocort     0.0     0.0       0.00000    0.00000   \n",
       "3                      a-methapred     0.0     0.0       0.00000    0.00000   \n",
       "4  a-n stannous aggregated albumin     0.0     0.0       0.00000    0.00000   \n",
       "\n",
       "     avg_OD_p  avg_OD_n  \n",
       "0   88.691482  0.509258  \n",
       "1  150.892944       NaN  \n",
       "2         NaN       NaN  \n",
       "3         NaN       NaN  \n",
       "4         NaN       NaN  "
      ]
     },
     "metadata": {},
     "output_type": "display_data"
    }
   ],
   "source": [
    "drug_stats_1 = pd.DataFrame(drug_stats).T.reset_index()\n",
    "drug_stats_1.columns = ['drug',' num_p', 'num_n', 'tot_OD_p', 'tot_OD_n', 'avg_OD_p', 'avg_OD_n']\n",
    "print drug_stats_1.shape\n",
    "display(drug_stats_1.head())"
   ]
  },
  {
   "cell_type": "markdown",
   "metadata": {
    "deletable": true,
    "editable": true
   },
   "source": [
    "You can see some drugs do not have Odds Ratio (NaN), those are the ones that we are going to predict later."
   ]
  },
  {
   "cell_type": "code",
   "execution_count": 164,
   "metadata": {
    "collapsed": true,
    "deletable": true,
    "editable": true
   },
   "outputs": [],
   "source": [
    "drug_stats_1.to_csv('.../drug_stats.csv', index=None)"
   ]
  },
  {
   "cell_type": "markdown",
   "metadata": {
    "deletable": true,
    "editable": true
   },
   "source": [
    "<a id='merged_AE_Drug_info'></a>"
   ]
  },
  {
   "cell_type": "markdown",
   "metadata": {
    "deletable": true,
    "editable": true
   },
   "source": [
    "### Now we have achieved our 1st goal, making a table that contains drug name, ingredients, average odds ratio."
   ]
  },
  {
   "cell_type": "code",
   "execution_count": 182,
   "metadata": {
    "collapsed": false,
    "deletable": true,
    "editable": true,
    "scrolled": true
   },
   "outputs": [
    {
     "data": {
      "text/html": [
       "<div>\n",
       "<table border=\"1\" class=\"dataframe\">\n",
       "  <thead>\n",
       "    <tr style=\"text-align: right;\">\n",
       "      <th></th>\n",
       "      <th>drug</th>\n",
       "      <th>num_p</th>\n",
       "      <th>num_n</th>\n",
       "      <th>tot_OD_p</th>\n",
       "      <th>tot_OD_n</th>\n",
       "      <th>avg_OD_p</th>\n",
       "      <th>avg_OD_n</th>\n",
       "      <th>0</th>\n",
       "      <th>1</th>\n",
       "      <th>2</th>\n",
       "      <th>3</th>\n",
       "      <th>4</th>\n",
       "      <th>5</th>\n",
       "      <th>6</th>\n",
       "      <th>7</th>\n",
       "      <th>8</th>\n",
       "      <th>9</th>\n",
       "      <th>10</th>\n",
       "      <th>11</th>\n",
       "      <th>12</th>\n",
       "    </tr>\n",
       "  </thead>\n",
       "  <tbody>\n",
       "    <tr>\n",
       "      <th>2965</th>\n",
       "      <td>insulin</td>\n",
       "      <td>7170.0</td>\n",
       "      <td>3890.0</td>\n",
       "      <td>215789.07410</td>\n",
       "      <td>1733.80871</td>\n",
       "      <td>30.096105</td>\n",
       "      <td>0.445709</td>\n",
       "      <td>insulin pork</td>\n",
       "      <td>NaN</td>\n",
       "      <td>NaN</td>\n",
       "      <td>NaN</td>\n",
       "      <td>NaN</td>\n",
       "      <td>NaN</td>\n",
       "      <td>NaN</td>\n",
       "      <td>NaN</td>\n",
       "      <td>NaN</td>\n",
       "      <td>NaN</td>\n",
       "      <td>NaN</td>\n",
       "      <td>NaN</td>\n",
       "      <td>NaN</td>\n",
       "    </tr>\n",
       "    <tr>\n",
       "      <th>2184</th>\n",
       "      <td>estrace</td>\n",
       "      <td>5491.0</td>\n",
       "      <td>3000.0</td>\n",
       "      <td>762854.43663</td>\n",
       "      <td>772.28900</td>\n",
       "      <td>138.928144</td>\n",
       "      <td>0.257430</td>\n",
       "      <td>estradiol</td>\n",
       "      <td>NaN</td>\n",
       "      <td>NaN</td>\n",
       "      <td>NaN</td>\n",
       "      <td>NaN</td>\n",
       "      <td>NaN</td>\n",
       "      <td>NaN</td>\n",
       "      <td>NaN</td>\n",
       "      <td>NaN</td>\n",
       "      <td>NaN</td>\n",
       "      <td>NaN</td>\n",
       "      <td>NaN</td>\n",
       "      <td>NaN</td>\n",
       "    </tr>\n",
       "    <tr>\n",
       "      <th>3805</th>\n",
       "      <td>minivelle</td>\n",
       "      <td>5491.0</td>\n",
       "      <td>3000.0</td>\n",
       "      <td>762854.43663</td>\n",
       "      <td>772.28900</td>\n",
       "      <td>138.928144</td>\n",
       "      <td>0.257430</td>\n",
       "      <td>estradiol</td>\n",
       "      <td>NaN</td>\n",
       "      <td>NaN</td>\n",
       "      <td>NaN</td>\n",
       "      <td>NaN</td>\n",
       "      <td>NaN</td>\n",
       "      <td>NaN</td>\n",
       "      <td>NaN</td>\n",
       "      <td>NaN</td>\n",
       "      <td>NaN</td>\n",
       "      <td>NaN</td>\n",
       "      <td>NaN</td>\n",
       "      <td>NaN</td>\n",
       "    </tr>\n",
       "    <tr>\n",
       "      <th>4972</th>\n",
       "      <td>prefest</td>\n",
       "      <td>5491.0</td>\n",
       "      <td>3000.0</td>\n",
       "      <td>762854.43663</td>\n",
       "      <td>772.28900</td>\n",
       "      <td>138.928144</td>\n",
       "      <td>0.257430</td>\n",
       "      <td>estradiol</td>\n",
       "      <td>norgestimate</td>\n",
       "      <td>NaN</td>\n",
       "      <td>NaN</td>\n",
       "      <td>NaN</td>\n",
       "      <td>NaN</td>\n",
       "      <td>NaN</td>\n",
       "      <td>NaN</td>\n",
       "      <td>NaN</td>\n",
       "      <td>NaN</td>\n",
       "      <td>NaN</td>\n",
       "      <td>NaN</td>\n",
       "      <td>NaN</td>\n",
       "    </tr>\n",
       "    <tr>\n",
       "      <th>2024</th>\n",
       "      <td>elestrin</td>\n",
       "      <td>5491.0</td>\n",
       "      <td>3000.0</td>\n",
       "      <td>762854.43663</td>\n",
       "      <td>772.28900</td>\n",
       "      <td>138.928144</td>\n",
       "      <td>0.257430</td>\n",
       "      <td>estradiol</td>\n",
       "      <td>NaN</td>\n",
       "      <td>NaN</td>\n",
       "      <td>NaN</td>\n",
       "      <td>NaN</td>\n",
       "      <td>NaN</td>\n",
       "      <td>NaN</td>\n",
       "      <td>NaN</td>\n",
       "      <td>NaN</td>\n",
       "      <td>NaN</td>\n",
       "      <td>NaN</td>\n",
       "      <td>NaN</td>\n",
       "      <td>NaN</td>\n",
       "    </tr>\n",
       "  </tbody>\n",
       "</table>\n",
       "</div>"
      ],
      "text/plain": [
       "           drug   num_p   num_n      tot_OD_p    tot_OD_n    avg_OD_p  \\\n",
       "2965    insulin  7170.0  3890.0  215789.07410  1733.80871   30.096105   \n",
       "2184    estrace  5491.0  3000.0  762854.43663   772.28900  138.928144   \n",
       "3805  minivelle  5491.0  3000.0  762854.43663   772.28900  138.928144   \n",
       "4972    prefest  5491.0  3000.0  762854.43663   772.28900  138.928144   \n",
       "2024   elestrin  5491.0  3000.0  762854.43663   772.28900  138.928144   \n",
       "\n",
       "      avg_OD_n             0              1    2    3    4    5    6    7  \\\n",
       "2965  0.445709  insulin pork            NaN  NaN  NaN  NaN  NaN  NaN  NaN   \n",
       "2184  0.257430     estradiol            NaN  NaN  NaN  NaN  NaN  NaN  NaN   \n",
       "3805  0.257430     estradiol            NaN  NaN  NaN  NaN  NaN  NaN  NaN   \n",
       "4972  0.257430     estradiol   norgestimate  NaN  NaN  NaN  NaN  NaN  NaN   \n",
       "2024  0.257430     estradiol            NaN  NaN  NaN  NaN  NaN  NaN  NaN   \n",
       "\n",
       "        8    9   10   11   12  \n",
       "2965  NaN  NaN  NaN  NaN  NaN  \n",
       "2184  NaN  NaN  NaN  NaN  NaN  \n",
       "3805  NaN  NaN  NaN  NaN  NaN  \n",
       "4972  NaN  NaN  NaN  NaN  NaN  \n",
       "2024  NaN  NaN  NaN  NaN  NaN  "
      ]
     },
     "execution_count": 182,
     "metadata": {},
     "output_type": "execute_result"
    }
   ],
   "source": [
    "drug_summary.sort_values('num_n', ascending=False).head()"
   ]
  },
  {
   "cell_type": "markdown",
   "metadata": {
    "deletable": true,
    "editable": true
   },
   "source": [
    "<a id='ft_label'></a>\n",
    "# 2. Generate Features and Lables"
   ]
  },
  {
   "cell_type": "markdown",
   "metadata": {
    "deletable": true,
    "editable": true
   },
   "source": [
    "## 2-1 Separate Data for Training and Data for Prediction"
   ]
  },
  {
   "cell_type": "code",
   "execution_count": 189,
   "metadata": {
    "collapsed": false,
    "deletable": true,
    "editable": true
   },
   "outputs": [],
   "source": [
    "idx = (drug_summary.avg_OD_p > 0) | (drug_summary.avg_OD_n > 0)\n",
    "idx_pred = ~idx\n",
    "\n",
    "drug_summary_learn = drug_summary[idx]\n",
    "drug_summary_pred = drug_summary[idx_pred]"
   ]
  },
  {
   "cell_type": "raw",
   "metadata": {
    "deletable": true,
    "editable": true
   },
   "source": [
    "drug_summary_learn.to_csv('.../drug_summary_learn.csv', index=None)\n",
    "drug_summary_pred.to_csv('.../drug_summary_pred.csv', index=None)"
   ]
  },
  {
   "cell_type": "code",
   "execution_count": 193,
   "metadata": {
    "collapsed": false,
    "deletable": true,
    "editable": true,
    "scrolled": true
   },
   "outputs": [
    {
     "name": "stdout",
     "output_type": "stream",
     "text": [
      "6848 data in Total\n",
      "3645 data in learning set\n"
     ]
    },
    {
     "data": {
      "text/html": [
       "<div>\n",
       "<table border=\"1\" class=\"dataframe\">\n",
       "  <thead>\n",
       "    <tr style=\"text-align: right;\">\n",
       "      <th></th>\n",
       "      <th>drug</th>\n",
       "      <th>num_p</th>\n",
       "      <th>num_n</th>\n",
       "      <th>tot_OD_p</th>\n",
       "      <th>tot_OD_n</th>\n",
       "      <th>avg_OD_p</th>\n",
       "      <th>avg_OD_n</th>\n",
       "      <th>0</th>\n",
       "      <th>1</th>\n",
       "      <th>2</th>\n",
       "      <th>3</th>\n",
       "      <th>4</th>\n",
       "      <th>5</th>\n",
       "      <th>6</th>\n",
       "      <th>7</th>\n",
       "      <th>8</th>\n",
       "      <th>9</th>\n",
       "      <th>10</th>\n",
       "      <th>11</th>\n",
       "      <th>12</th>\n",
       "    </tr>\n",
       "  </thead>\n",
       "  <tbody>\n",
       "    <tr>\n",
       "      <th>0</th>\n",
       "      <td>8-hour bayer</td>\n",
       "      <td>2645.0</td>\n",
       "      <td>1685.0</td>\n",
       "      <td>234588.97006</td>\n",
       "      <td>858.09978</td>\n",
       "      <td>88.691482</td>\n",
       "      <td>0.509258</td>\n",
       "      <td>aspirin</td>\n",
       "      <td>NaN</td>\n",
       "      <td>NaN</td>\n",
       "      <td>NaN</td>\n",
       "      <td>NaN</td>\n",
       "      <td>NaN</td>\n",
       "      <td>NaN</td>\n",
       "      <td>NaN</td>\n",
       "      <td>NaN</td>\n",
       "      <td>NaN</td>\n",
       "      <td>NaN</td>\n",
       "      <td>NaN</td>\n",
       "      <td>NaN</td>\n",
       "    </tr>\n",
       "    <tr>\n",
       "      <th>1</th>\n",
       "      <td>8-mop</td>\n",
       "      <td>189.0</td>\n",
       "      <td>0.0</td>\n",
       "      <td>28518.76649</td>\n",
       "      <td>0.00000</td>\n",
       "      <td>150.892944</td>\n",
       "      <td>NaN</td>\n",
       "      <td>methoxsalen</td>\n",
       "      <td>NaN</td>\n",
       "      <td>NaN</td>\n",
       "      <td>NaN</td>\n",
       "      <td>NaN</td>\n",
       "      <td>NaN</td>\n",
       "      <td>NaN</td>\n",
       "      <td>NaN</td>\n",
       "      <td>NaN</td>\n",
       "      <td>NaN</td>\n",
       "      <td>NaN</td>\n",
       "      <td>NaN</td>\n",
       "      <td>NaN</td>\n",
       "    </tr>\n",
       "    <tr>\n",
       "      <th>7</th>\n",
       "      <td>a/t/s</td>\n",
       "      <td>1142.0</td>\n",
       "      <td>167.0</td>\n",
       "      <td>73239.58092</td>\n",
       "      <td>76.67688</td>\n",
       "      <td>64.132733</td>\n",
       "      <td>0.459143</td>\n",
       "      <td>erythromycin</td>\n",
       "      <td>NaN</td>\n",
       "      <td>NaN</td>\n",
       "      <td>NaN</td>\n",
       "      <td>NaN</td>\n",
       "      <td>NaN</td>\n",
       "      <td>NaN</td>\n",
       "      <td>NaN</td>\n",
       "      <td>NaN</td>\n",
       "      <td>NaN</td>\n",
       "      <td>NaN</td>\n",
       "      <td>NaN</td>\n",
       "      <td>NaN</td>\n",
       "    </tr>\n",
       "    <tr>\n",
       "      <th>8</th>\n",
       "      <td>abacavir</td>\n",
       "      <td>1724.0</td>\n",
       "      <td>357.0</td>\n",
       "      <td>76564.19000</td>\n",
       "      <td>109.93759</td>\n",
       "      <td>44.410783</td>\n",
       "      <td>0.307948</td>\n",
       "      <td>abacavir sulfate</td>\n",
       "      <td>NaN</td>\n",
       "      <td>NaN</td>\n",
       "      <td>NaN</td>\n",
       "      <td>NaN</td>\n",
       "      <td>NaN</td>\n",
       "      <td>NaN</td>\n",
       "      <td>NaN</td>\n",
       "      <td>NaN</td>\n",
       "      <td>NaN</td>\n",
       "      <td>NaN</td>\n",
       "      <td>NaN</td>\n",
       "      <td>NaN</td>\n",
       "    </tr>\n",
       "    <tr>\n",
       "      <th>9</th>\n",
       "      <td>abacavir and lamivudine</td>\n",
       "      <td>1724.0</td>\n",
       "      <td>357.0</td>\n",
       "      <td>76564.19000</td>\n",
       "      <td>109.93759</td>\n",
       "      <td>44.410783</td>\n",
       "      <td>0.307948</td>\n",
       "      <td>abacavir</td>\n",
       "      <td>lamivudine</td>\n",
       "      <td>NaN</td>\n",
       "      <td>NaN</td>\n",
       "      <td>NaN</td>\n",
       "      <td>NaN</td>\n",
       "      <td>NaN</td>\n",
       "      <td>NaN</td>\n",
       "      <td>NaN</td>\n",
       "      <td>NaN</td>\n",
       "      <td>NaN</td>\n",
       "      <td>NaN</td>\n",
       "      <td>NaN</td>\n",
       "    </tr>\n",
       "  </tbody>\n",
       "</table>\n",
       "</div>"
      ],
      "text/plain": [
       "                      drug   num_p   num_n      tot_OD_p   tot_OD_n  \\\n",
       "0             8-hour bayer  2645.0  1685.0  234588.97006  858.09978   \n",
       "1                    8-mop   189.0     0.0   28518.76649    0.00000   \n",
       "7                    a/t/s  1142.0   167.0   73239.58092   76.67688   \n",
       "8                 abacavir  1724.0   357.0   76564.19000  109.93759   \n",
       "9  abacavir and lamivudine  1724.0   357.0   76564.19000  109.93759   \n",
       "\n",
       "     avg_OD_p  avg_OD_n                 0           1    2    3    4    5  \\\n",
       "0   88.691482  0.509258           aspirin         NaN  NaN  NaN  NaN  NaN   \n",
       "1  150.892944       NaN       methoxsalen         NaN  NaN  NaN  NaN  NaN   \n",
       "7   64.132733  0.459143      erythromycin         NaN  NaN  NaN  NaN  NaN   \n",
       "8   44.410783  0.307948  abacavir sulfate         NaN  NaN  NaN  NaN  NaN   \n",
       "9   44.410783  0.307948          abacavir  lamivudine  NaN  NaN  NaN  NaN   \n",
       "\n",
       "     6    7    8    9   10   11   12  \n",
       "0  NaN  NaN  NaN  NaN  NaN  NaN  NaN  \n",
       "1  NaN  NaN  NaN  NaN  NaN  NaN  NaN  \n",
       "7  NaN  NaN  NaN  NaN  NaN  NaN  NaN  \n",
       "8  NaN  NaN  NaN  NaN  NaN  NaN  NaN  \n",
       "9  NaN  NaN  NaN  NaN  NaN  NaN  NaN  "
      ]
     },
     "execution_count": 193,
     "metadata": {},
     "output_type": "execute_result"
    }
   ],
   "source": [
    "print \"%d data in Total\" %(drug_summary.shape[0])\n",
    "print \"%d data in learning set\" %(drug_summary_learn.shape[0])\n",
    "drug_summary_learn.head()"
   ]
  },
  {
   "cell_type": "code",
   "execution_count": 192,
   "metadata": {
    "collapsed": false,
    "deletable": true,
    "editable": true
   },
   "outputs": [
    {
     "name": "stdout",
     "output_type": "stream",
     "text": [
      "3203 data in predicting set\n"
     ]
    },
    {
     "data": {
      "text/html": [
       "<div>\n",
       "<table border=\"1\" class=\"dataframe\">\n",
       "  <thead>\n",
       "    <tr style=\"text-align: right;\">\n",
       "      <th></th>\n",
       "      <th>drug</th>\n",
       "      <th>num_p</th>\n",
       "      <th>num_n</th>\n",
       "      <th>tot_OD_p</th>\n",
       "      <th>tot_OD_n</th>\n",
       "      <th>avg_OD_p</th>\n",
       "      <th>avg_OD_n</th>\n",
       "      <th>0</th>\n",
       "      <th>1</th>\n",
       "      <th>2</th>\n",
       "      <th>3</th>\n",
       "      <th>4</th>\n",
       "      <th>5</th>\n",
       "      <th>6</th>\n",
       "      <th>7</th>\n",
       "      <th>8</th>\n",
       "      <th>9</th>\n",
       "      <th>10</th>\n",
       "      <th>11</th>\n",
       "      <th>12</th>\n",
       "    </tr>\n",
       "  </thead>\n",
       "  <tbody>\n",
       "    <tr>\n",
       "      <th>2</th>\n",
       "      <td>a-hydrocort</td>\n",
       "      <td>0.0</td>\n",
       "      <td>0.0</td>\n",
       "      <td>0.0</td>\n",
       "      <td>0.0</td>\n",
       "      <td>NaN</td>\n",
       "      <td>NaN</td>\n",
       "      <td>hydrocortisone sodium succinate</td>\n",
       "      <td>NaN</td>\n",
       "      <td>NaN</td>\n",
       "      <td>NaN</td>\n",
       "      <td>NaN</td>\n",
       "      <td>NaN</td>\n",
       "      <td>NaN</td>\n",
       "      <td>NaN</td>\n",
       "      <td>NaN</td>\n",
       "      <td>NaN</td>\n",
       "      <td>NaN</td>\n",
       "      <td>NaN</td>\n",
       "      <td>NaN</td>\n",
       "    </tr>\n",
       "    <tr>\n",
       "      <th>3</th>\n",
       "      <td>a-methapred</td>\n",
       "      <td>0.0</td>\n",
       "      <td>0.0</td>\n",
       "      <td>0.0</td>\n",
       "      <td>0.0</td>\n",
       "      <td>NaN</td>\n",
       "      <td>NaN</td>\n",
       "      <td>methylprednisolone sodium succinate</td>\n",
       "      <td>NaN</td>\n",
       "      <td>NaN</td>\n",
       "      <td>NaN</td>\n",
       "      <td>NaN</td>\n",
       "      <td>NaN</td>\n",
       "      <td>NaN</td>\n",
       "      <td>NaN</td>\n",
       "      <td>NaN</td>\n",
       "      <td>NaN</td>\n",
       "      <td>NaN</td>\n",
       "      <td>NaN</td>\n",
       "      <td>NaN</td>\n",
       "    </tr>\n",
       "    <tr>\n",
       "      <th>4</th>\n",
       "      <td>a-n stannous aggregated albumin</td>\n",
       "      <td>0.0</td>\n",
       "      <td>0.0</td>\n",
       "      <td>0.0</td>\n",
       "      <td>0.0</td>\n",
       "      <td>NaN</td>\n",
       "      <td>NaN</td>\n",
       "      <td>technetium tc-99m albumin aggregated kit</td>\n",
       "      <td>NaN</td>\n",
       "      <td>NaN</td>\n",
       "      <td>NaN</td>\n",
       "      <td>NaN</td>\n",
       "      <td>NaN</td>\n",
       "      <td>NaN</td>\n",
       "      <td>NaN</td>\n",
       "      <td>NaN</td>\n",
       "      <td>NaN</td>\n",
       "      <td>NaN</td>\n",
       "      <td>NaN</td>\n",
       "      <td>NaN</td>\n",
       "    </tr>\n",
       "    <tr>\n",
       "      <th>5</th>\n",
       "      <td>a-poxide</td>\n",
       "      <td>0.0</td>\n",
       "      <td>0.0</td>\n",
       "      <td>0.0</td>\n",
       "      <td>0.0</td>\n",
       "      <td>NaN</td>\n",
       "      <td>NaN</td>\n",
       "      <td>chlordiazepoxide hydrochloride</td>\n",
       "      <td>NaN</td>\n",
       "      <td>NaN</td>\n",
       "      <td>NaN</td>\n",
       "      <td>NaN</td>\n",
       "      <td>NaN</td>\n",
       "      <td>NaN</td>\n",
       "      <td>NaN</td>\n",
       "      <td>NaN</td>\n",
       "      <td>NaN</td>\n",
       "      <td>NaN</td>\n",
       "      <td>NaN</td>\n",
       "      <td>NaN</td>\n",
       "    </tr>\n",
       "    <tr>\n",
       "      <th>6</th>\n",
       "      <td>a.p.l.</td>\n",
       "      <td>0.0</td>\n",
       "      <td>0.0</td>\n",
       "      <td>0.0</td>\n",
       "      <td>0.0</td>\n",
       "      <td>NaN</td>\n",
       "      <td>NaN</td>\n",
       "      <td>gonadotropin, chorionic</td>\n",
       "      <td>NaN</td>\n",
       "      <td>NaN</td>\n",
       "      <td>NaN</td>\n",
       "      <td>NaN</td>\n",
       "      <td>NaN</td>\n",
       "      <td>NaN</td>\n",
       "      <td>NaN</td>\n",
       "      <td>NaN</td>\n",
       "      <td>NaN</td>\n",
       "      <td>NaN</td>\n",
       "      <td>NaN</td>\n",
       "      <td>NaN</td>\n",
       "    </tr>\n",
       "  </tbody>\n",
       "</table>\n",
       "</div>"
      ],
      "text/plain": [
       "                              drug   num_p  num_n  tot_OD_p  tot_OD_n  \\\n",
       "2                      a-hydrocort     0.0    0.0       0.0       0.0   \n",
       "3                      a-methapred     0.0    0.0       0.0       0.0   \n",
       "4  a-n stannous aggregated albumin     0.0    0.0       0.0       0.0   \n",
       "5                         a-poxide     0.0    0.0       0.0       0.0   \n",
       "6                           a.p.l.     0.0    0.0       0.0       0.0   \n",
       "\n",
       "   avg_OD_p  avg_OD_n                                         0    1    2  \\\n",
       "2       NaN       NaN           hydrocortisone sodium succinate  NaN  NaN   \n",
       "3       NaN       NaN       methylprednisolone sodium succinate  NaN  NaN   \n",
       "4       NaN       NaN  technetium tc-99m albumin aggregated kit  NaN  NaN   \n",
       "5       NaN       NaN            chlordiazepoxide hydrochloride  NaN  NaN   \n",
       "6       NaN       NaN                   gonadotropin, chorionic  NaN  NaN   \n",
       "\n",
       "     3    4    5    6    7    8    9   10   11   12  \n",
       "2  NaN  NaN  NaN  NaN  NaN  NaN  NaN  NaN  NaN  NaN  \n",
       "3  NaN  NaN  NaN  NaN  NaN  NaN  NaN  NaN  NaN  NaN  \n",
       "4  NaN  NaN  NaN  NaN  NaN  NaN  NaN  NaN  NaN  NaN  \n",
       "5  NaN  NaN  NaN  NaN  NaN  NaN  NaN  NaN  NaN  NaN  \n",
       "6  NaN  NaN  NaN  NaN  NaN  NaN  NaN  NaN  NaN  NaN  "
      ]
     },
     "execution_count": 192,
     "metadata": {},
     "output_type": "execute_result"
    }
   ],
   "source": [
    "print \"%d data in predicting set\" %(drug_summary_pred.shape[0])\n",
    "drug_summary_pred.head()"
   ]
  },
  {
   "cell_type": "markdown",
   "metadata": {
    "deletable": true,
    "editable": true
   },
   "source": [
    "We have decent amount of data for trainig (3645 cases)"
   ]
  },
  {
   "cell_type": "markdown",
   "metadata": {
    "deletable": true,
    "editable": true
   },
   "source": [
    "<a id='avg_odd'></a>\n",
    "## 2-2 Calculate \"Ultimate Odds Ratio\" for further classification\n",
    "\n",
    "Odds Ratio = 1 means that reported AE is insignificant. If OR >> 1, the AE case is significant; if OR < 1 means it is 'less likely' to happen (or it might even be preventive).\n",
    "\n",
    "Some drugs have both cases with OR > 1 and OR < 1, for example \"8-hour bayer\" has average OR= 88.7 for significant cases and average OR = 0.5 for 'preventive' cases. To calculate the **ultimate odds ratio**, we can **multiply value of OR > 1 and value of OR < 1**. \n",
    "\n",
    "My idea behind this is, for example, there are two drugs with same values of OR > 1, both OR = 100. But Drug A has other cases with OR = 0.001 and Drug B has other cases with OR = 0.8. So overall Drug A should be less problematic, and this can be calculated by comparing 100*0.001 vs 100*0.8. \n",
    "\n",
    "Why not just 'add them'? Becuase the dynamic range for OR > 1 and OR < 1 is very different, adding OR < 1 values can be very ineffective for those OR >>> 1. Therefore multiplication is better. And to avoid OR>1 * 0 that make the whole case 0, we need to add '1' to all the OR < 1 cases; this is to 'shift' baseline to 1. For example, a case with OR = 100 and OR = 0, the multiplication gives 0, that does not mean the drug has no AE, it only means the drug might not be that problematic as those severe cases. (However, you don't really need to do +1 shfit. This is just my preference.)"
   ]
  },
  {
   "cell_type": "code",
   "execution_count": 203,
   "metadata": {
    "collapsed": false,
    "deletable": true,
    "editable": true
   },
   "outputs": [
    {
     "name": "stderr",
     "output_type": "stream",
     "text": [
      "/Users/changc25/Library/Enthought/Canopy_64bit/User/lib/python2.7/site-packages/pandas/core/indexing.py:297: SettingWithCopyWarning: \n",
      "A value is trying to be set on a copy of a slice from a DataFrame.\n",
      "Try using .loc[row_indexer,col_indexer] = value instead\n",
      "\n",
      "See the caveats in the documentation: http://pandas.pydata.org/pandas-docs/stable/indexing.html#indexing-view-versus-copy\n",
      "  self.obj[key] = _infer_fill_value(value)\n"
     ]
    },
    {
     "data": {
      "text/html": [
       "<div>\n",
       "<table border=\"1\" class=\"dataframe\">\n",
       "  <thead>\n",
       "    <tr style=\"text-align: right;\">\n",
       "      <th></th>\n",
       "      <th>drug</th>\n",
       "      <th>num_p</th>\n",
       "      <th>num_n</th>\n",
       "      <th>tot_OD_p</th>\n",
       "      <th>tot_OD_n</th>\n",
       "      <th>avg_OD_p</th>\n",
       "      <th>avg_OD_n</th>\n",
       "      <th>0</th>\n",
       "      <th>1</th>\n",
       "      <th>2</th>\n",
       "      <th>...</th>\n",
       "      <th>6</th>\n",
       "      <th>7</th>\n",
       "      <th>8</th>\n",
       "      <th>9</th>\n",
       "      <th>10</th>\n",
       "      <th>11</th>\n",
       "      <th>12</th>\n",
       "      <th>avg_OD_n_new</th>\n",
       "      <th>avg_OD_p_new</th>\n",
       "      <th>alt_OR</th>\n",
       "    </tr>\n",
       "  </thead>\n",
       "  <tbody>\n",
       "    <tr>\n",
       "      <th>0</th>\n",
       "      <td>8-hour bayer</td>\n",
       "      <td>2645.0</td>\n",
       "      <td>1685.0</td>\n",
       "      <td>234588.97006</td>\n",
       "      <td>858.09978</td>\n",
       "      <td>88.691482</td>\n",
       "      <td>0.509258</td>\n",
       "      <td>aspirin</td>\n",
       "      <td>NaN</td>\n",
       "      <td>NaN</td>\n",
       "      <td>...</td>\n",
       "      <td>NaN</td>\n",
       "      <td>NaN</td>\n",
       "      <td>NaN</td>\n",
       "      <td>NaN</td>\n",
       "      <td>NaN</td>\n",
       "      <td>NaN</td>\n",
       "      <td>NaN</td>\n",
       "      <td>1.509258</td>\n",
       "      <td>88.691482</td>\n",
       "      <td>133.858331</td>\n",
       "    </tr>\n",
       "    <tr>\n",
       "      <th>1</th>\n",
       "      <td>8-mop</td>\n",
       "      <td>189.0</td>\n",
       "      <td>0.0</td>\n",
       "      <td>28518.76649</td>\n",
       "      <td>0.00000</td>\n",
       "      <td>150.892944</td>\n",
       "      <td>NaN</td>\n",
       "      <td>methoxsalen</td>\n",
       "      <td>NaN</td>\n",
       "      <td>NaN</td>\n",
       "      <td>...</td>\n",
       "      <td>NaN</td>\n",
       "      <td>NaN</td>\n",
       "      <td>NaN</td>\n",
       "      <td>NaN</td>\n",
       "      <td>NaN</td>\n",
       "      <td>NaN</td>\n",
       "      <td>NaN</td>\n",
       "      <td>1.000000</td>\n",
       "      <td>150.892944</td>\n",
       "      <td>150.892944</td>\n",
       "    </tr>\n",
       "    <tr>\n",
       "      <th>7</th>\n",
       "      <td>a/t/s</td>\n",
       "      <td>1142.0</td>\n",
       "      <td>167.0</td>\n",
       "      <td>73239.58092</td>\n",
       "      <td>76.67688</td>\n",
       "      <td>64.132733</td>\n",
       "      <td>0.459143</td>\n",
       "      <td>erythromycin</td>\n",
       "      <td>NaN</td>\n",
       "      <td>NaN</td>\n",
       "      <td>...</td>\n",
       "      <td>NaN</td>\n",
       "      <td>NaN</td>\n",
       "      <td>NaN</td>\n",
       "      <td>NaN</td>\n",
       "      <td>NaN</td>\n",
       "      <td>NaN</td>\n",
       "      <td>NaN</td>\n",
       "      <td>1.459143</td>\n",
       "      <td>64.132733</td>\n",
       "      <td>93.578828</td>\n",
       "    </tr>\n",
       "    <tr>\n",
       "      <th>8</th>\n",
       "      <td>abacavir</td>\n",
       "      <td>1724.0</td>\n",
       "      <td>357.0</td>\n",
       "      <td>76564.19000</td>\n",
       "      <td>109.93759</td>\n",
       "      <td>44.410783</td>\n",
       "      <td>0.307948</td>\n",
       "      <td>abacavir sulfate</td>\n",
       "      <td>NaN</td>\n",
       "      <td>NaN</td>\n",
       "      <td>...</td>\n",
       "      <td>NaN</td>\n",
       "      <td>NaN</td>\n",
       "      <td>NaN</td>\n",
       "      <td>NaN</td>\n",
       "      <td>NaN</td>\n",
       "      <td>NaN</td>\n",
       "      <td>NaN</td>\n",
       "      <td>1.307948</td>\n",
       "      <td>44.410783</td>\n",
       "      <td>58.087014</td>\n",
       "    </tr>\n",
       "    <tr>\n",
       "      <th>9</th>\n",
       "      <td>abacavir and lamivudine</td>\n",
       "      <td>1724.0</td>\n",
       "      <td>357.0</td>\n",
       "      <td>76564.19000</td>\n",
       "      <td>109.93759</td>\n",
       "      <td>44.410783</td>\n",
       "      <td>0.307948</td>\n",
       "      <td>abacavir</td>\n",
       "      <td>lamivudine</td>\n",
       "      <td>NaN</td>\n",
       "      <td>...</td>\n",
       "      <td>NaN</td>\n",
       "      <td>NaN</td>\n",
       "      <td>NaN</td>\n",
       "      <td>NaN</td>\n",
       "      <td>NaN</td>\n",
       "      <td>NaN</td>\n",
       "      <td>NaN</td>\n",
       "      <td>1.307948</td>\n",
       "      <td>44.410783</td>\n",
       "      <td>58.087014</td>\n",
       "    </tr>\n",
       "  </tbody>\n",
       "</table>\n",
       "<p>5 rows × 23 columns</p>\n",
       "</div>"
      ],
      "text/plain": [
       "                      drug   num_p   num_n      tot_OD_p   tot_OD_n  \\\n",
       "0             8-hour bayer  2645.0  1685.0  234588.97006  858.09978   \n",
       "1                    8-mop   189.0     0.0   28518.76649    0.00000   \n",
       "7                    a/t/s  1142.0   167.0   73239.58092   76.67688   \n",
       "8                 abacavir  1724.0   357.0   76564.19000  109.93759   \n",
       "9  abacavir and lamivudine  1724.0   357.0   76564.19000  109.93759   \n",
       "\n",
       "     avg_OD_p  avg_OD_n                 0           1    2     ...        6  \\\n",
       "0   88.691482  0.509258           aspirin         NaN  NaN     ...      NaN   \n",
       "1  150.892944       NaN       methoxsalen         NaN  NaN     ...      NaN   \n",
       "7   64.132733  0.459143      erythromycin         NaN  NaN     ...      NaN   \n",
       "8   44.410783  0.307948  abacavir sulfate         NaN  NaN     ...      NaN   \n",
       "9   44.410783  0.307948          abacavir  lamivudine  NaN     ...      NaN   \n",
       "\n",
       "     7    8    9   10   11   12 avg_OD_n_new avg_OD_p_new      alt_OR  \n",
       "0  NaN  NaN  NaN  NaN  NaN  NaN     1.509258    88.691482  133.858331  \n",
       "1  NaN  NaN  NaN  NaN  NaN  NaN     1.000000   150.892944  150.892944  \n",
       "7  NaN  NaN  NaN  NaN  NaN  NaN     1.459143    64.132733   93.578828  \n",
       "8  NaN  NaN  NaN  NaN  NaN  NaN     1.307948    44.410783   58.087014  \n",
       "9  NaN  NaN  NaN  NaN  NaN  NaN     1.307948    44.410783   58.087014  \n",
       "\n",
       "[5 rows x 23 columns]"
      ]
     },
     "execution_count": 203,
     "metadata": {},
     "output_type": "execute_result"
    }
   ],
   "source": [
    "# compute an 'ultimate OR' = avg_OD_p * avg_OD_n\n",
    "# we need to avg_OD_n + 1\n",
    "# we need to avg_OD_p + 0 (especially for NAs) \n",
    "# this will make the multiply product 0, if OD_p is NA->0\n",
    "drug_summary_learn.loc[:,'avg_OD_n_new'] = drug_summary_learn.avg_OD_n.fillna(0) + 1\n",
    "drug_summary_learn.loc[:,'avg_OD_p_new'] = drug_summary_learn.avg_OD_p.fillna(0)\n",
    "drug_summary_learn.loc[:,'alt_OR'] = drug_summary_learn.avg_OD_n_new * drug_summary_learn.avg_OD_p_new \n",
    "drug_summary_learn.head()"
   ]
  },
  {
   "cell_type": "markdown",
   "metadata": {
    "deletable": true,
    "editable": true
   },
   "source": [
    "## 2-3 Define Drug's Problem Levels\n",
    "\n",
    "We are going to define 4 levels: \n",
    "- **0 is 'probably no problem'**\n",
    "- **1 is 'may have some problems'**\n",
    "- **2 is 'there are some problems'**\n",
    "- **3 is 'be careful'**"
   ]
  },
  {
   "cell_type": "code",
   "execution_count": 232,
   "metadata": {
    "collapsed": false,
    "deletable": true,
    "editable": true
   },
   "outputs": [
    {
     "name": "stdout",
     "output_type": "stream",
     "text": [
      "total data 3645\n",
      "max value 2525328.99805\n",
      "min value 6.85863095506\n"
     ]
    }
   ],
   "source": [
    "print \"total data\", drug_summary_learn.alt_OR.count()\n",
    "print \"max value\", drug_summary_learn.alt_OR.max()\n",
    "print \"min value\", drug_summary_learn.alt_OR.min()"
   ]
  },
  {
   "cell_type": "markdown",
   "metadata": {
    "deletable": true,
    "editable": true
   },
   "source": [
    "The reason I chose those ranges is because they make good partition among each level, so we don't have to worry too much about dealing with imbalanced data."
   ]
  },
  {
   "cell_type": "code",
   "execution_count": 261,
   "metadata": {
    "collapsed": false,
    "deletable": true,
    "editable": true
   },
   "outputs": [
    {
     "name": "stdout",
     "output_type": "stream",
     "text": [
      "Num of label Fine 0    : 893\n",
      "Num of label OK 1      : 909\n",
      "Num of label Bad 2     : 908\n",
      "Num of label Very Bad 3: 935\n"
     ]
    }
   ],
   "source": [
    "idx0 = (drug_summary_learn.alt_OR < 40) & (drug_summary_learn.alt_OR > 1)\n",
    "idx1 = (drug_summary_learn.alt_OR < 80) & (drug_summary_learn.alt_OR >= 40)\n",
    "idx2 = (drug_summary_learn.alt_OR < 160) & (drug_summary_learn.alt_OR >= 80)\n",
    "idx3 = (drug_summary_learn.alt_OR >= 160)\n",
    "\n",
    "print \"Num of label Fine 0    :\", sum(idx0)\n",
    "print \"Num of label OK 1      :\", sum(idx1)\n",
    "print \"Num of label Bad 2     :\", sum(idx2)\n",
    "print \"Num of label Very Bad 3:\", sum(idx3)"
   ]
  },
  {
   "cell_type": "code",
   "execution_count": 265,
   "metadata": {
    "collapsed": false,
    "deletable": true,
    "editable": true
   },
   "outputs": [
    {
     "data": {
      "text/html": [
       "<div>\n",
       "<table border=\"1\" class=\"dataframe\">\n",
       "  <thead>\n",
       "    <tr style=\"text-align: right;\">\n",
       "      <th></th>\n",
       "      <th>drug</th>\n",
       "      <th>num_p</th>\n",
       "      <th>num_n</th>\n",
       "      <th>tot_OD_p</th>\n",
       "      <th>tot_OD_n</th>\n",
       "      <th>avg_OD_p</th>\n",
       "      <th>avg_OD_n</th>\n",
       "      <th>0</th>\n",
       "      <th>1</th>\n",
       "      <th>2</th>\n",
       "      <th>...</th>\n",
       "      <th>7</th>\n",
       "      <th>8</th>\n",
       "      <th>9</th>\n",
       "      <th>10</th>\n",
       "      <th>11</th>\n",
       "      <th>12</th>\n",
       "      <th>avg_OD_n_new</th>\n",
       "      <th>avg_OD_p_new</th>\n",
       "      <th>alt_OR</th>\n",
       "      <th>Label</th>\n",
       "    </tr>\n",
       "  </thead>\n",
       "  <tbody>\n",
       "    <tr>\n",
       "      <th>0</th>\n",
       "      <td>8-hour bayer</td>\n",
       "      <td>2645.0</td>\n",
       "      <td>1685.0</td>\n",
       "      <td>234588.97006</td>\n",
       "      <td>858.09978</td>\n",
       "      <td>88.691482</td>\n",
       "      <td>0.509258</td>\n",
       "      <td>aspirin</td>\n",
       "      <td>NaN</td>\n",
       "      <td>NaN</td>\n",
       "      <td>...</td>\n",
       "      <td>NaN</td>\n",
       "      <td>NaN</td>\n",
       "      <td>NaN</td>\n",
       "      <td>NaN</td>\n",
       "      <td>NaN</td>\n",
       "      <td>NaN</td>\n",
       "      <td>1.509258</td>\n",
       "      <td>88.691482</td>\n",
       "      <td>133.858331</td>\n",
       "      <td>2</td>\n",
       "    </tr>\n",
       "    <tr>\n",
       "      <th>1</th>\n",
       "      <td>8-mop</td>\n",
       "      <td>189.0</td>\n",
       "      <td>0.0</td>\n",
       "      <td>28518.76649</td>\n",
       "      <td>0.00000</td>\n",
       "      <td>150.892944</td>\n",
       "      <td>NaN</td>\n",
       "      <td>methoxsalen</td>\n",
       "      <td>NaN</td>\n",
       "      <td>NaN</td>\n",
       "      <td>...</td>\n",
       "      <td>NaN</td>\n",
       "      <td>NaN</td>\n",
       "      <td>NaN</td>\n",
       "      <td>NaN</td>\n",
       "      <td>NaN</td>\n",
       "      <td>NaN</td>\n",
       "      <td>1.000000</td>\n",
       "      <td>150.892944</td>\n",
       "      <td>150.892944</td>\n",
       "      <td>2</td>\n",
       "    </tr>\n",
       "    <tr>\n",
       "      <th>7</th>\n",
       "      <td>a/t/s</td>\n",
       "      <td>1142.0</td>\n",
       "      <td>167.0</td>\n",
       "      <td>73239.58092</td>\n",
       "      <td>76.67688</td>\n",
       "      <td>64.132733</td>\n",
       "      <td>0.459143</td>\n",
       "      <td>erythromycin</td>\n",
       "      <td>NaN</td>\n",
       "      <td>NaN</td>\n",
       "      <td>...</td>\n",
       "      <td>NaN</td>\n",
       "      <td>NaN</td>\n",
       "      <td>NaN</td>\n",
       "      <td>NaN</td>\n",
       "      <td>NaN</td>\n",
       "      <td>NaN</td>\n",
       "      <td>1.459143</td>\n",
       "      <td>64.132733</td>\n",
       "      <td>93.578828</td>\n",
       "      <td>2</td>\n",
       "    </tr>\n",
       "    <tr>\n",
       "      <th>8</th>\n",
       "      <td>abacavir</td>\n",
       "      <td>1724.0</td>\n",
       "      <td>357.0</td>\n",
       "      <td>76564.19000</td>\n",
       "      <td>109.93759</td>\n",
       "      <td>44.410783</td>\n",
       "      <td>0.307948</td>\n",
       "      <td>abacavir sulfate</td>\n",
       "      <td>NaN</td>\n",
       "      <td>NaN</td>\n",
       "      <td>...</td>\n",
       "      <td>NaN</td>\n",
       "      <td>NaN</td>\n",
       "      <td>NaN</td>\n",
       "      <td>NaN</td>\n",
       "      <td>NaN</td>\n",
       "      <td>NaN</td>\n",
       "      <td>1.307948</td>\n",
       "      <td>44.410783</td>\n",
       "      <td>58.087014</td>\n",
       "      <td>1</td>\n",
       "    </tr>\n",
       "    <tr>\n",
       "      <th>9</th>\n",
       "      <td>abacavir and lamivudine</td>\n",
       "      <td>1724.0</td>\n",
       "      <td>357.0</td>\n",
       "      <td>76564.19000</td>\n",
       "      <td>109.93759</td>\n",
       "      <td>44.410783</td>\n",
       "      <td>0.307948</td>\n",
       "      <td>abacavir</td>\n",
       "      <td>lamivudine</td>\n",
       "      <td>NaN</td>\n",
       "      <td>...</td>\n",
       "      <td>NaN</td>\n",
       "      <td>NaN</td>\n",
       "      <td>NaN</td>\n",
       "      <td>NaN</td>\n",
       "      <td>NaN</td>\n",
       "      <td>NaN</td>\n",
       "      <td>1.307948</td>\n",
       "      <td>44.410783</td>\n",
       "      <td>58.087014</td>\n",
       "      <td>1</td>\n",
       "    </tr>\n",
       "  </tbody>\n",
       "</table>\n",
       "<p>5 rows × 24 columns</p>\n",
       "</div>"
      ],
      "text/plain": [
       "                      drug   num_p   num_n      tot_OD_p   tot_OD_n  \\\n",
       "0             8-hour bayer  2645.0  1685.0  234588.97006  858.09978   \n",
       "1                    8-mop   189.0     0.0   28518.76649    0.00000   \n",
       "7                    a/t/s  1142.0   167.0   73239.58092   76.67688   \n",
       "8                 abacavir  1724.0   357.0   76564.19000  109.93759   \n",
       "9  abacavir and lamivudine  1724.0   357.0   76564.19000  109.93759   \n",
       "\n",
       "     avg_OD_p  avg_OD_n                 0           1    2  ...     7    8  \\\n",
       "0   88.691482  0.509258           aspirin         NaN  NaN  ...   NaN  NaN   \n",
       "1  150.892944       NaN       methoxsalen         NaN  NaN  ...   NaN  NaN   \n",
       "7   64.132733  0.459143      erythromycin         NaN  NaN  ...   NaN  NaN   \n",
       "8   44.410783  0.307948  abacavir sulfate         NaN  NaN  ...   NaN  NaN   \n",
       "9   44.410783  0.307948          abacavir  lamivudine  NaN  ...   NaN  NaN   \n",
       "\n",
       "     9   10   11   12 avg_OD_n_new avg_OD_p_new      alt_OR Label  \n",
       "0  NaN  NaN  NaN  NaN     1.509258    88.691482  133.858331     2  \n",
       "1  NaN  NaN  NaN  NaN     1.000000   150.892944  150.892944     2  \n",
       "7  NaN  NaN  NaN  NaN     1.459143    64.132733   93.578828     2  \n",
       "8  NaN  NaN  NaN  NaN     1.307948    44.410783   58.087014     1  \n",
       "9  NaN  NaN  NaN  NaN     1.307948    44.410783   58.087014     1  \n",
       "\n",
       "[5 rows x 24 columns]"
      ]
     },
     "execution_count": 265,
     "metadata": {},
     "output_type": "execute_result"
    }
   ],
   "source": [
    "# create labels\n",
    "drug_summary_learn['Label'] = 0\n",
    "drug_summary_learn.loc[idx1,'Label'] = 1\n",
    "drug_summary_learn.loc[idx2,'Label'] = 2\n",
    "drug_summary_learn.loc[idx3,'Label'] = 3\n",
    "\n",
    "drug_summary_learn.head()"
   ]
  },
  {
   "cell_type": "markdown",
   "metadata": {
    "deletable": true,
    "editable": true
   },
   "source": [
    "## 2-4 Combine Drug Name and their Ingredients\n",
    "\n",
    "because these are going to be the features for machine learning"
   ]
  },
  {
   "cell_type": "code",
   "execution_count": 289,
   "metadata": {
    "collapsed": false,
    "deletable": true,
    "editable": true
   },
   "outputs": [
    {
     "data": {
      "text/html": [
       "<div>\n",
       "<table border=\"1\" class=\"dataframe\">\n",
       "  <thead>\n",
       "    <tr style=\"text-align: right;\">\n",
       "      <th></th>\n",
       "      <th>drug</th>\n",
       "      <th>0</th>\n",
       "      <th>1</th>\n",
       "      <th>2</th>\n",
       "      <th>3</th>\n",
       "      <th>4</th>\n",
       "      <th>5</th>\n",
       "      <th>6</th>\n",
       "      <th>7</th>\n",
       "      <th>8</th>\n",
       "      <th>9</th>\n",
       "      <th>10</th>\n",
       "      <th>11</th>\n",
       "      <th>12</th>\n",
       "    </tr>\n",
       "  </thead>\n",
       "  <tbody>\n",
       "    <tr>\n",
       "      <th>0</th>\n",
       "      <td>8-hour bayer</td>\n",
       "      <td>aspirin</td>\n",
       "      <td></td>\n",
       "      <td></td>\n",
       "      <td></td>\n",
       "      <td></td>\n",
       "      <td></td>\n",
       "      <td></td>\n",
       "      <td></td>\n",
       "      <td></td>\n",
       "      <td></td>\n",
       "      <td></td>\n",
       "      <td></td>\n",
       "      <td></td>\n",
       "    </tr>\n",
       "    <tr>\n",
       "      <th>1</th>\n",
       "      <td>8-mop</td>\n",
       "      <td>methoxsalen</td>\n",
       "      <td></td>\n",
       "      <td></td>\n",
       "      <td></td>\n",
       "      <td></td>\n",
       "      <td></td>\n",
       "      <td></td>\n",
       "      <td></td>\n",
       "      <td></td>\n",
       "      <td></td>\n",
       "      <td></td>\n",
       "      <td></td>\n",
       "      <td></td>\n",
       "    </tr>\n",
       "    <tr>\n",
       "      <th>7</th>\n",
       "      <td>a/t/s</td>\n",
       "      <td>erythromycin</td>\n",
       "      <td></td>\n",
       "      <td></td>\n",
       "      <td></td>\n",
       "      <td></td>\n",
       "      <td></td>\n",
       "      <td></td>\n",
       "      <td></td>\n",
       "      <td></td>\n",
       "      <td></td>\n",
       "      <td></td>\n",
       "      <td></td>\n",
       "      <td></td>\n",
       "    </tr>\n",
       "    <tr>\n",
       "      <th>8</th>\n",
       "      <td>abacavir</td>\n",
       "      <td>abacavir sulfate</td>\n",
       "      <td></td>\n",
       "      <td></td>\n",
       "      <td></td>\n",
       "      <td></td>\n",
       "      <td></td>\n",
       "      <td></td>\n",
       "      <td></td>\n",
       "      <td></td>\n",
       "      <td></td>\n",
       "      <td></td>\n",
       "      <td></td>\n",
       "      <td></td>\n",
       "    </tr>\n",
       "    <tr>\n",
       "      <th>9</th>\n",
       "      <td>abacavir and lamivudine</td>\n",
       "      <td>abacavir</td>\n",
       "      <td>lamivudine</td>\n",
       "      <td></td>\n",
       "      <td></td>\n",
       "      <td></td>\n",
       "      <td></td>\n",
       "      <td></td>\n",
       "      <td></td>\n",
       "      <td></td>\n",
       "      <td></td>\n",
       "      <td></td>\n",
       "      <td></td>\n",
       "      <td></td>\n",
       "    </tr>\n",
       "    <tr>\n",
       "      <th>14</th>\n",
       "      <td>abacavir; lamivudine</td>\n",
       "      <td>abacavir</td>\n",
       "      <td>lamivudine</td>\n",
       "      <td></td>\n",
       "      <td></td>\n",
       "      <td></td>\n",
       "      <td></td>\n",
       "      <td></td>\n",
       "      <td></td>\n",
       "      <td></td>\n",
       "      <td></td>\n",
       "      <td></td>\n",
       "      <td></td>\n",
       "      <td></td>\n",
       "    </tr>\n",
       "    <tr>\n",
       "      <th>15</th>\n",
       "      <td>abelcet</td>\n",
       "      <td>amphotericin b</td>\n",
       "      <td></td>\n",
       "      <td></td>\n",
       "      <td></td>\n",
       "      <td></td>\n",
       "      <td></td>\n",
       "      <td></td>\n",
       "      <td></td>\n",
       "      <td></td>\n",
       "      <td></td>\n",
       "      <td></td>\n",
       "      <td></td>\n",
       "      <td></td>\n",
       "    </tr>\n",
       "    <tr>\n",
       "      <th>16</th>\n",
       "      <td>abilify</td>\n",
       "      <td>aripiprazole</td>\n",
       "      <td></td>\n",
       "      <td></td>\n",
       "      <td></td>\n",
       "      <td></td>\n",
       "      <td></td>\n",
       "      <td></td>\n",
       "      <td></td>\n",
       "      <td></td>\n",
       "      <td></td>\n",
       "      <td></td>\n",
       "      <td></td>\n",
       "      <td></td>\n",
       "    </tr>\n",
       "    <tr>\n",
       "      <th>17</th>\n",
       "      <td>abilify maintena kit</td>\n",
       "      <td>aripiprazole</td>\n",
       "      <td></td>\n",
       "      <td></td>\n",
       "      <td></td>\n",
       "      <td></td>\n",
       "      <td></td>\n",
       "      <td></td>\n",
       "      <td></td>\n",
       "      <td></td>\n",
       "      <td></td>\n",
       "      <td></td>\n",
       "      <td></td>\n",
       "      <td></td>\n",
       "    </tr>\n",
       "    <tr>\n",
       "      <th>20</th>\n",
       "      <td>abraxane</td>\n",
       "      <td>paclitaxel</td>\n",
       "      <td></td>\n",
       "      <td></td>\n",
       "      <td></td>\n",
       "      <td></td>\n",
       "      <td></td>\n",
       "      <td></td>\n",
       "      <td></td>\n",
       "      <td></td>\n",
       "      <td></td>\n",
       "      <td></td>\n",
       "      <td></td>\n",
       "      <td></td>\n",
       "    </tr>\n",
       "  </tbody>\n",
       "</table>\n",
       "</div>"
      ],
      "text/plain": [
       "                       drug                 0           1 2 3 4 5 6 7 8 9 10  \\\n",
       "0              8-hour bayer           aspirin                                  \n",
       "1                     8-mop       methoxsalen                                  \n",
       "7                     a/t/s      erythromycin                                  \n",
       "8                  abacavir  abacavir sulfate                                  \n",
       "9   abacavir and lamivudine          abacavir  lamivudine                      \n",
       "14     abacavir; lamivudine          abacavir  lamivudine                      \n",
       "15                  abelcet    amphotericin b                                  \n",
       "16                  abilify      aripiprazole                                  \n",
       "17     abilify maintena kit      aripiprazole                                  \n",
       "20                 abraxane        paclitaxel                                  \n",
       "\n",
       "   11 12  \n",
       "0         \n",
       "1         \n",
       "7         \n",
       "8         \n",
       "9         \n",
       "14        \n",
       "15        \n",
       "16        \n",
       "17        \n",
       "20        "
      ]
     },
     "execution_count": 289,
     "metadata": {},
     "output_type": "execute_result"
    }
   ],
   "source": [
    "drug_comp = drug_summary_learn.loc[:,['drug',0,1,2,3,4,5,6,7,8,9,10,11,12]]\n",
    "drug_comp = drug_comp.fillna('')\n",
    "drug_comp.head(10)"
   ]
  },
  {
   "cell_type": "code",
   "execution_count": 288,
   "metadata": {
    "collapsed": false,
    "deletable": true,
    "editable": true
   },
   "outputs": [
    {
     "data": {
      "text/plain": [
       "0                      8-hour bayer aspirin            \n",
       "1                         8-mop methoxsalen            \n",
       "7                        a/t/s erythromycin            \n",
       "8                 abacavir abacavir sulfate            \n",
       "9     abacavir and lamivudine abacavir lamivudine   ...\n",
       "14    abacavir; lamivudine abacavir lamivudine      ...\n",
       "15                   abelcet amphotericin b            \n",
       "16                     abilify aripiprazole            \n",
       "17        abilify maintena kit aripiprazole            \n",
       "20                      abraxane paclitaxel            \n",
       "dtype: object"
      ]
     },
     "execution_count": 288,
     "metadata": {},
     "output_type": "execute_result"
    }
   ],
   "source": [
    "drug_comp_full = drug_comp.drug \n",
    "for i in range(13):\n",
    "    drug_comp_full = drug_comp_full + ' ' + drug_comp.loc[:,i]\n",
    "        \n",
    "drug_comp_full.head(10)"
   ]
  },
  {
   "cell_type": "code",
   "execution_count": 296,
   "metadata": {
    "collapsed": false,
    "deletable": true,
    "editable": true,
    "scrolled": true
   },
   "outputs": [
    {
     "name": "stdout",
     "output_type": "stream",
     "text": [
      "(3645, 2)\n"
     ]
    },
    {
     "data": {
      "text/html": [
       "<div>\n",
       "<table border=\"1\" class=\"dataframe\">\n",
       "  <thead>\n",
       "    <tr style=\"text-align: right;\">\n",
       "      <th></th>\n",
       "      <th>Drug</th>\n",
       "      <th>Label</th>\n",
       "    </tr>\n",
       "  </thead>\n",
       "  <tbody>\n",
       "    <tr>\n",
       "      <th>0</th>\n",
       "      <td>8-hour bayer aspirin</td>\n",
       "      <td>2</td>\n",
       "    </tr>\n",
       "    <tr>\n",
       "      <th>1</th>\n",
       "      <td>8-mop methoxsalen</td>\n",
       "      <td>2</td>\n",
       "    </tr>\n",
       "    <tr>\n",
       "      <th>7</th>\n",
       "      <td>a/t/s erythromycin</td>\n",
       "      <td>2</td>\n",
       "    </tr>\n",
       "    <tr>\n",
       "      <th>8</th>\n",
       "      <td>abacavir abacavir sulfate</td>\n",
       "      <td>1</td>\n",
       "    </tr>\n",
       "    <tr>\n",
       "      <th>9</th>\n",
       "      <td>abacavir and lamivudine abacavir lamivudine   ...</td>\n",
       "      <td>1</td>\n",
       "    </tr>\n",
       "  </tbody>\n",
       "</table>\n",
       "</div>"
      ],
      "text/plain": [
       "                                                Drug  Label\n",
       "0                   8-hour bayer aspirin                  2\n",
       "1                      8-mop methoxsalen                  2\n",
       "7                     a/t/s erythromycin                  2\n",
       "8              abacavir abacavir sulfate                  1\n",
       "9  abacavir and lamivudine abacavir lamivudine   ...      1"
      ]
     },
     "metadata": {},
     "output_type": "display_data"
    }
   ],
   "source": [
    "data_learn = pd.DataFrame({'Drug': drug_comp_full, 'Label':drug_summary_learn.Label})\n",
    "print data_learn.shape\n",
    "display(data_learn.head())"
   ]
  },
  {
   "cell_type": "code",
   "execution_count": 300,
   "metadata": {
    "collapsed": false,
    "deletable": true,
    "editable": true
   },
   "outputs": [
    {
     "data": {
      "text/html": [
       "<div>\n",
       "<table border=\"1\" class=\"dataframe\">\n",
       "  <thead>\n",
       "    <tr style=\"text-align: right;\">\n",
       "      <th></th>\n",
       "      <th>drug</th>\n",
       "      <th>0</th>\n",
       "      <th>1</th>\n",
       "      <th>2</th>\n",
       "      <th>3</th>\n",
       "      <th>4</th>\n",
       "      <th>5</th>\n",
       "      <th>6</th>\n",
       "      <th>7</th>\n",
       "      <th>8</th>\n",
       "      <th>9</th>\n",
       "      <th>10</th>\n",
       "      <th>11</th>\n",
       "      <th>12</th>\n",
       "    </tr>\n",
       "  </thead>\n",
       "  <tbody>\n",
       "    <tr>\n",
       "      <th>2</th>\n",
       "      <td>a-hydrocort</td>\n",
       "      <td>hydrocortisone sodium succinate</td>\n",
       "      <td></td>\n",
       "      <td></td>\n",
       "      <td></td>\n",
       "      <td></td>\n",
       "      <td></td>\n",
       "      <td></td>\n",
       "      <td></td>\n",
       "      <td></td>\n",
       "      <td></td>\n",
       "      <td></td>\n",
       "      <td></td>\n",
       "      <td></td>\n",
       "    </tr>\n",
       "    <tr>\n",
       "      <th>3</th>\n",
       "      <td>a-methapred</td>\n",
       "      <td>methylprednisolone sodium succinate</td>\n",
       "      <td></td>\n",
       "      <td></td>\n",
       "      <td></td>\n",
       "      <td></td>\n",
       "      <td></td>\n",
       "      <td></td>\n",
       "      <td></td>\n",
       "      <td></td>\n",
       "      <td></td>\n",
       "      <td></td>\n",
       "      <td></td>\n",
       "      <td></td>\n",
       "    </tr>\n",
       "    <tr>\n",
       "      <th>4</th>\n",
       "      <td>a-n stannous aggregated albumin</td>\n",
       "      <td>technetium tc-99m albumin aggregated kit</td>\n",
       "      <td></td>\n",
       "      <td></td>\n",
       "      <td></td>\n",
       "      <td></td>\n",
       "      <td></td>\n",
       "      <td></td>\n",
       "      <td></td>\n",
       "      <td></td>\n",
       "      <td></td>\n",
       "      <td></td>\n",
       "      <td></td>\n",
       "      <td></td>\n",
       "    </tr>\n",
       "    <tr>\n",
       "      <th>5</th>\n",
       "      <td>a-poxide</td>\n",
       "      <td>chlordiazepoxide hydrochloride</td>\n",
       "      <td></td>\n",
       "      <td></td>\n",
       "      <td></td>\n",
       "      <td></td>\n",
       "      <td></td>\n",
       "      <td></td>\n",
       "      <td></td>\n",
       "      <td></td>\n",
       "      <td></td>\n",
       "      <td></td>\n",
       "      <td></td>\n",
       "      <td></td>\n",
       "    </tr>\n",
       "    <tr>\n",
       "      <th>6</th>\n",
       "      <td>a.p.l.</td>\n",
       "      <td>gonadotropin, chorionic</td>\n",
       "      <td></td>\n",
       "      <td></td>\n",
       "      <td></td>\n",
       "      <td></td>\n",
       "      <td></td>\n",
       "      <td></td>\n",
       "      <td></td>\n",
       "      <td></td>\n",
       "      <td></td>\n",
       "      <td></td>\n",
       "      <td></td>\n",
       "      <td></td>\n",
       "    </tr>\n",
       "    <tr>\n",
       "      <th>10</th>\n",
       "      <td>abacavir sulfate</td>\n",
       "      <td>abacavir sulfate</td>\n",
       "      <td></td>\n",
       "      <td></td>\n",
       "      <td></td>\n",
       "      <td></td>\n",
       "      <td></td>\n",
       "      <td></td>\n",
       "      <td></td>\n",
       "      <td></td>\n",
       "      <td></td>\n",
       "      <td></td>\n",
       "      <td></td>\n",
       "      <td></td>\n",
       "    </tr>\n",
       "    <tr>\n",
       "      <th>11</th>\n",
       "      <td>abacavir sulfate and lamivudine</td>\n",
       "      <td>abacavir sulfate</td>\n",
       "      <td>lamivudine</td>\n",
       "      <td></td>\n",
       "      <td></td>\n",
       "      <td></td>\n",
       "      <td></td>\n",
       "      <td></td>\n",
       "      <td></td>\n",
       "      <td></td>\n",
       "      <td></td>\n",
       "      <td></td>\n",
       "      <td></td>\n",
       "      <td></td>\n",
       "    </tr>\n",
       "    <tr>\n",
       "      <th>12</th>\n",
       "      <td>abacavir sulfate, lamivudine and zidovudine</td>\n",
       "      <td>abacavir sulfate</td>\n",
       "      <td>lamivudine</td>\n",
       "      <td>zidovudine</td>\n",
       "      <td></td>\n",
       "      <td></td>\n",
       "      <td></td>\n",
       "      <td></td>\n",
       "      <td></td>\n",
       "      <td></td>\n",
       "      <td></td>\n",
       "      <td></td>\n",
       "      <td></td>\n",
       "      <td></td>\n",
       "    </tr>\n",
       "    <tr>\n",
       "      <th>13</th>\n",
       "      <td>abacavir sulfate; lamivudine</td>\n",
       "      <td>abacavir sulfate</td>\n",
       "      <td>lamivudine</td>\n",
       "      <td></td>\n",
       "      <td></td>\n",
       "      <td></td>\n",
       "      <td></td>\n",
       "      <td></td>\n",
       "      <td></td>\n",
       "      <td></td>\n",
       "      <td></td>\n",
       "      <td></td>\n",
       "      <td></td>\n",
       "      <td></td>\n",
       "    </tr>\n",
       "    <tr>\n",
       "      <th>18</th>\n",
       "      <td>abitrexate</td>\n",
       "      <td>methotrexate sodium</td>\n",
       "      <td></td>\n",
       "      <td></td>\n",
       "      <td></td>\n",
       "      <td></td>\n",
       "      <td></td>\n",
       "      <td></td>\n",
       "      <td></td>\n",
       "      <td></td>\n",
       "      <td></td>\n",
       "      <td></td>\n",
       "      <td></td>\n",
       "      <td></td>\n",
       "    </tr>\n",
       "  </tbody>\n",
       "</table>\n",
       "</div>"
      ],
      "text/plain": [
       "                                           drug  \\\n",
       "2                                   a-hydrocort   \n",
       "3                                   a-methapred   \n",
       "4               a-n stannous aggregated albumin   \n",
       "5                                      a-poxide   \n",
       "6                                        a.p.l.   \n",
       "10                             abacavir sulfate   \n",
       "11              abacavir sulfate and lamivudine   \n",
       "12  abacavir sulfate, lamivudine and zidovudine   \n",
       "13                 abacavir sulfate; lamivudine   \n",
       "18                                   abitrexate   \n",
       "\n",
       "                                           0            1            2 3 4 5  \\\n",
       "2            hydrocortisone sodium succinate                                   \n",
       "3        methylprednisolone sodium succinate                                   \n",
       "4   technetium tc-99m albumin aggregated kit                                   \n",
       "5             chlordiazepoxide hydrochloride                                   \n",
       "6                    gonadotropin, chorionic                                   \n",
       "10                          abacavir sulfate                                   \n",
       "11                          abacavir sulfate   lamivudine                      \n",
       "12                          abacavir sulfate   lamivudine   zidovudine         \n",
       "13                          abacavir sulfate   lamivudine                      \n",
       "18                       methotrexate sodium                                   \n",
       "\n",
       "   6 7 8 9 10 11 12  \n",
       "2                    \n",
       "3                    \n",
       "4                    \n",
       "5                    \n",
       "6                    \n",
       "10                   \n",
       "11                   \n",
       "12                   \n",
       "13                   \n",
       "18                   "
      ]
     },
     "execution_count": 300,
     "metadata": {},
     "output_type": "execute_result"
    }
   ],
   "source": [
    "# dealing with the prediction data\n",
    "drug_comp_pred = drug_summary_pred.loc[:,['drug',0,1,2,3,4,5,6,7,8,9,10,11,12]]\n",
    "drug_comp_pred = drug_comp_pred.fillna('')\n",
    "drug_comp_pred.head(10)"
   ]
  },
  {
   "cell_type": "code",
   "execution_count": 299,
   "metadata": {
    "collapsed": false,
    "deletable": true,
    "editable": true
   },
   "outputs": [
    {
     "data": {
      "text/plain": [
       "2     a-hydrocort hydrocortisone sodium succinate   ...\n",
       "3     a-methapred methylprednisolone sodium succinat...\n",
       "4     a-n stannous aggregated albumin technetium tc-...\n",
       "5     a-poxide chlordiazepoxide hydrochloride       ...\n",
       "6            a.p.l. gonadotropin, chorionic            \n",
       "10        abacavir sulfate abacavir sulfate            \n",
       "11    abacavir sulfate and lamivudine abacavir sulfa...\n",
       "12    abacavir sulfate, lamivudine and zidovudine ab...\n",
       "13    abacavir sulfate; lamivudine abacavir sulfate ...\n",
       "18           abitrexate methotrexate sodium            \n",
       "dtype: object"
      ]
     },
     "execution_count": 299,
     "metadata": {},
     "output_type": "execute_result"
    }
   ],
   "source": [
    "drug_comp_pred_full = drug_comp_pred.drug \n",
    "for i in range(13):\n",
    "    drug_comp_pred_full = drug_comp_pred_full + ' ' + drug_comp_pred.loc[:,i]\n",
    "        \n",
    "drug_comp_pred_full.head(10)"
   ]
  },
  {
   "cell_type": "code",
   "execution_count": 302,
   "metadata": {
    "collapsed": true,
    "deletable": true,
    "editable": true
   },
   "outputs": [],
   "source": [
    "data_pred = drug_comp_pred_full\n",
    "data_learn.to_csv('.../data_learn.csv', index=None)\n",
    "data_pred.to_csv('.../data_pred.csv', index=None)"
   ]
  },
  {
   "cell_type": "code",
   "execution_count": 2,
   "metadata": {
    "collapsed": true,
    "deletable": true,
    "editable": true
   },
   "outputs": [],
   "source": [
    "data_learn = pd.read_csv('.../data_learn.csv')\n",
    "data_pred = pd.read_csv('.../data_pred.csv')"
   ]
  },
  {
   "cell_type": "markdown",
   "metadata": {
    "deletable": true,
    "editable": true
   },
   "source": [
    "## 2-5 Create Features using CountVectorizer (Bag-of-Words)"
   ]
  },
  {
   "cell_type": "code",
   "execution_count": 3,
   "metadata": {
    "collapsed": false,
    "deletable": true,
    "editable": true
   },
   "outputs": [
    {
     "name": "stdout",
     "output_type": "stream",
     "text": [
      "(2733,)\n",
      "(912,)\n",
      "(2733,)\n",
      "(912,)\n"
     ]
    },
    {
     "name": "stderr",
     "output_type": "stream",
     "text": [
      "/Users/changc25/Library/Enthought/Canopy_64bit/User/lib/python2.7/site-packages/sklearn/cross_validation.py:44: DeprecationWarning: This module was deprecated in version 0.18 in favor of the model_selection module into which all the refactored classes and functions are moved. Also note that the interface of the new CV iterators are different from that of this module. This module will be removed in 0.20.\n",
      "  \"This module will be removed in 0.20.\", DeprecationWarning)\n"
     ]
    }
   ],
   "source": [
    "from sklearn.cross_validation import train_test_split\n",
    "from sklearn.feature_extraction.text import CountVectorizer\n",
    "\n",
    "X_train, X_test, y_train, y_test = train_test_split(data_learn.Drug, data_learn.Label, random_state=1)\n",
    "print(X_train.shape)\n",
    "print(X_test.shape)\n",
    "print(y_train.shape)\n",
    "print(y_test.shape)"
   ]
  },
  {
   "cell_type": "code",
   "execution_count": 4,
   "metadata": {
    "collapsed": false,
    "deletable": true,
    "editable": true
   },
   "outputs": [
    {
     "data": {
      "text/plain": [
       "<2733x2827 sparse matrix of type '<type 'numpy.int64'>'\n",
       "\twith 10479 stored elements in Compressed Sparse Row format>"
      ]
     },
     "execution_count": 4,
     "metadata": {},
     "output_type": "execute_result"
    }
   ],
   "source": [
    "vect = CountVectorizer()\n",
    "X_train_dtm = vect.fit_transform(X_train)\n",
    "X_train_dtm"
   ]
  },
  {
   "cell_type": "code",
   "execution_count": 5,
   "metadata": {
    "collapsed": false,
    "deletable": true,
    "editable": true
   },
   "outputs": [
    {
     "data": {
      "text/plain": [
       "<912x2827 sparse matrix of type '<type 'numpy.int64'>'\n",
       "\twith 2712 stored elements in Compressed Sparse Row format>"
      ]
     },
     "execution_count": 5,
     "metadata": {},
     "output_type": "execute_result"
    }
   ],
   "source": [
    "# transform testing data (using fitted vocabulary) into a document-term matrix\n",
    "X_test_dtm = vect.transform(X_test)\n",
    "X_test_dtm"
   ]
  },
  {
   "cell_type": "markdown",
   "metadata": {
    "deletable": true,
    "editable": true
   },
   "source": [
    "<a id='ML'></a>\n",
    "# 3. Training and Prediction "
   ]
  },
  {
   "cell_type": "markdown",
   "metadata": {
    "deletable": true,
    "editable": true
   },
   "source": [
    "## 3-1 Try MultinomialNB"
   ]
  },
  {
   "cell_type": "code",
   "execution_count": 309,
   "metadata": {
    "collapsed": true,
    "deletable": true,
    "editable": true
   },
   "outputs": [],
   "source": [
    "from sklearn.naive_bayes import MultinomialNB\n",
    "nb = MultinomialNB()"
   ]
  },
  {
   "cell_type": "code",
   "execution_count": 310,
   "metadata": {
    "collapsed": false,
    "deletable": true,
    "editable": true
   },
   "outputs": [
    {
     "name": "stdout",
     "output_type": "stream",
     "text": [
      "CPU times: user 3.47 ms, sys: 2.33 ms, total: 5.8 ms\n",
      "Wall time: 13.7 ms\n"
     ]
    },
    {
     "data": {
      "text/plain": [
       "MultinomialNB(alpha=1.0, class_prior=None, fit_prior=True)"
      ]
     },
     "execution_count": 310,
     "metadata": {},
     "output_type": "execute_result"
    }
   ],
   "source": [
    "# train the model using X_train_dtm (timing it with an IPython \"magic command\")\n",
    "%time nb.fit(X_train_dtm, y_train)"
   ]
  },
  {
   "cell_type": "code",
   "execution_count": 312,
   "metadata": {
    "collapsed": false,
    "deletable": true,
    "editable": true
   },
   "outputs": [
    {
     "name": "stdout",
     "output_type": "stream",
     "text": [
      "accuracy: 0.794956140351\n",
      "             precision    recall  f1-score   support\n",
      "\n",
      "          0       0.89      0.83      0.86       216\n",
      "          1       0.91      0.73      0.81       232\n",
      "          2       0.83      0.79      0.81       234\n",
      "          3       0.63      0.83      0.72       230\n",
      "\n",
      "avg / total       0.82      0.79      0.80       912\n",
      "\n"
     ]
    }
   ],
   "source": [
    "# make class predictions for X_test_dtm\n",
    "y_pred_class = nb.predict(X_test_dtm)\n",
    "\n",
    "# calculate accuracy of class predictions\n",
    "from sklearn import metrics\n",
    "print \"accuracy:\", metrics.accuracy_score(y_test, y_pred_class)\n",
    "print metrics.classification_report(y_test, y_pred_class)"
   ]
  },
  {
   "cell_type": "markdown",
   "metadata": {
    "deletable": true,
    "editable": true
   },
   "source": [
    "## 3-2 Try SGDClassifier\n",
    "Linear classifiers (SVM, logistic regression, a.o.) with SGD training."
   ]
  },
  {
   "cell_type": "code",
   "execution_count": 15,
   "metadata": {
    "collapsed": true,
    "deletable": true,
    "editable": true
   },
   "outputs": [],
   "source": [
    "from sklearn.linear_model import SGDClassifier\n",
    "from sklearn.model_selection import GridSearchCV, validation_curve, StratifiedShuffleSplit"
   ]
  },
  {
   "cell_type": "code",
   "execution_count": 29,
   "metadata": {
    "collapsed": false,
    "deletable": true,
    "editable": true
   },
   "outputs": [
    {
     "name": "stdout",
     "output_type": "stream",
     "text": [
      "CPU times: user 10.8 ms, sys: 859 µs, total: 11.6 ms\n",
      "Wall time: 10.9 ms\n"
     ]
    },
    {
     "data": {
      "text/plain": [
       "SGDClassifier(alpha=0.0001, average=False, class_weight=None, epsilon=0.1,\n",
       "       eta0=0.0, fit_intercept=True, l1_ratio=0.15,\n",
       "       learning_rate='optimal', loss='hinge', n_iter=5, n_jobs=1,\n",
       "       penalty='l2', power_t=0.5, random_state=None, shuffle=True,\n",
       "       verbose=0, warm_start=False)"
      ]
     },
     "execution_count": 29,
     "metadata": {},
     "output_type": "execute_result"
    }
   ],
   "source": [
    "clf = SGDClassifier()\n",
    "%time clf.fit(X_train_dtm, y_train)"
   ]
  },
  {
   "cell_type": "code",
   "execution_count": 38,
   "metadata": {
    "collapsed": false,
    "deletable": true,
    "editable": true
   },
   "outputs": [
    {
     "name": "stdout",
     "output_type": "stream",
     "text": [
      "CPU times: user 162 ms, sys: 42.6 ms, total: 205 ms\n",
      "Wall time: 409 ms\n",
      "The best parameters are {'penalty': 'l2', 'alpha': 0.001} with a score of 0.84\n",
      "SGDClassifier(alpha=0.001, average=False, class_weight=None, epsilon=0.1,\n",
      "       eta0=0.0, fit_intercept=True, l1_ratio=0.15,\n",
      "       learning_rate='optimal', loss='hinge', n_iter=5, n_jobs=1,\n",
      "       penalty='l2', power_t=0.5, random_state=None, shuffle=True,\n",
      "       verbose=0, warm_start=False)\n"
     ]
    }
   ],
   "source": [
    "cv_sets = StratifiedShuffleSplit(n_splits=3, test_size=0.2, random_state=1)\n",
    "parameters = {'alpha': [0.01, 0.001, 0.0001], 'penalty': ['l1', 'l2', 'elasticnet']}\n",
    "\n",
    "grid = GridSearchCV(clf, parameters, cv=cv_sets, scoring = 'accuracy', n_jobs=3)\n",
    "%time grid.fit(X_train_dtm, y_train)\n",
    "print(\"The best parameters are %s with a score of %0.2f\" % (grid.best_params_, grid.best_score_))\n",
    "print grid.best_estimator_"
   ]
  },
  {
   "cell_type": "code",
   "execution_count": 45,
   "metadata": {
    "collapsed": false,
    "deletable": true,
    "editable": true,
    "scrolled": true
   },
   "outputs": [
    {
     "name": "stdout",
     "output_type": "stream",
     "text": [
      "CPU times: user 7.79 ms, sys: 702 µs, total: 8.49 ms\n",
      "Wall time: 7.77 ms\n"
     ]
    },
    {
     "data": {
      "text/plain": [
       "SGDClassifier(alpha=0.001, average=False, class_weight=None, epsilon=0.1,\n",
       "       eta0=0.0, fit_intercept=True, l1_ratio=0.15,\n",
       "       learning_rate='optimal', loss='hinge', n_iter=5, n_jobs=1,\n",
       "       penalty='l2', power_t=0.5, random_state=None, shuffle=True,\n",
       "       verbose=0, warm_start=False)"
      ]
     },
     "execution_count": 45,
     "metadata": {},
     "output_type": "execute_result"
    }
   ],
   "source": [
    "clf = grid.best_estimator_\n",
    "%time clf.fit(X_train_dtm, y_train)"
   ]
  },
  {
   "cell_type": "code",
   "execution_count": 44,
   "metadata": {
    "collapsed": false,
    "deletable": true,
    "editable": true
   },
   "outputs": [
    {
     "name": "stdout",
     "output_type": "stream",
     "text": [
      "accuracy: 0.8125\n",
      "             precision    recall  f1-score   support\n",
      "\n",
      "          0       0.62      0.93      0.75       216\n",
      "          1       0.92      0.81      0.86       232\n",
      "          2       0.93      0.82      0.87       234\n",
      "          3       0.89      0.70      0.78       230\n",
      "\n",
      "avg / total       0.85      0.81      0.82       912\n",
      "\n"
     ]
    }
   ],
   "source": [
    "# make class predictions for X_test_dtm\n",
    "y_pred_class = clf.predict(X_test_dtm)\n",
    "\n",
    "# calculate accuracy of class predictions\n",
    "from sklearn import metrics\n",
    "print \"accuracy:\", metrics.accuracy_score(y_test, y_pred_class)\n",
    "print metrics.classification_report(y_test, y_pred_class)"
   ]
  },
  {
   "cell_type": "markdown",
   "metadata": {
    "deletable": true,
    "editable": true
   },
   "source": [
    "- precision: The precision is intuitively the ability of the classifier not to label as positive a sample that is negative\n",
    "- recall: The recall is intuitively the ability of the classifier to find all the positive samples.\n",
    "- f1-score: The F1 score can be interpreted as a weighted average of the precision and recall, where an F1 score reaches its best value at 1 and worst score at 0."
   ]
  },
  {
   "cell_type": "markdown",
   "metadata": {
    "deletable": true,
    "editable": true
   },
   "source": [
    "**Seems like SGDClassifier does better than Naive Bayes without any tuning**"
   ]
  },
  {
   "cell_type": "code",
   "execution_count": 332,
   "metadata": {
    "collapsed": false,
    "deletable": true,
    "editable": true
   },
   "outputs": [
    {
     "data": {
      "text/plain": [
       "5631    sodium pertechnetate tc 99m technetium tc-99m ...\n",
       "1135            chloromycetin chloramphenicol            \n",
       "3886                       mozobil plerixafor            \n",
       "1621            desvenlafaxine desvenlafaxine            \n",
       "1092                     cetrotide cetrorelix            \n",
       "3676    metatensin #2 reserpine  trichlormethiazide   ...\n",
       "5344                      reserpine reserpine            \n",
       "5379                        ridaura auranofin            \n",
       "3290                    leukeran chlorambucil            \n",
       "6202    travasol 4.25% sulfite free w/ electrolytes in...\n",
       "Name: Drug, dtype: object"
      ]
     },
     "execution_count": 332,
     "metadata": {},
     "output_type": "execute_result"
    }
   ],
   "source": [
    "X_test.head(10)"
   ]
  },
  {
   "cell_type": "code",
   "execution_count": 331,
   "metadata": {
    "collapsed": false,
    "deletable": true,
    "editable": true
   },
   "outputs": [
    {
     "name": "stdout",
     "output_type": "stream",
     "text": [
      "actual label: [3 3 2 0 3 3 3 3 2 1 2 1 3 2 1 3 1 1 0 3]\n",
      "predicted   : [3 3 3 0 3 3 3 3 3 1 2 1 3 2 1 3 1 1 0 3]\n"
     ]
    }
   ],
   "source": [
    "print \"actual label:\", (y_test[:20].values)\n",
    "print \"predicted   :\", (y_pred_class[:20])"
   ]
  },
  {
   "cell_type": "markdown",
   "metadata": {
    "deletable": true,
    "editable": true
   },
   "source": [
    "## 3-3 Predicting those drugs without AE reports"
   ]
  },
  {
   "cell_type": "code",
   "execution_count": 333,
   "metadata": {
    "collapsed": false,
    "deletable": true,
    "editable": true
   },
   "outputs": [
    {
     "data": {
      "text/plain": [
       "2    a-hydrocort hydrocortisone sodium succinate   ...\n",
       "3    a-methapred methylprednisolone sodium succinat...\n",
       "4    a-n stannous aggregated albumin technetium tc-...\n",
       "5    a-poxide chlordiazepoxide hydrochloride       ...\n",
       "6           a.p.l. gonadotropin, chorionic            \n",
       "dtype: object"
      ]
     },
     "execution_count": 333,
     "metadata": {},
     "output_type": "execute_result"
    }
   ],
   "source": [
    "data_pred.head()"
   ]
  },
  {
   "cell_type": "code",
   "execution_count": 334,
   "metadata": {
    "collapsed": false,
    "deletable": true,
    "editable": true
   },
   "outputs": [
    {
     "data": {
      "text/plain": [
       "<3203x2827 sparse matrix of type '<type 'numpy.int64'>'\n",
       "\twith 6234 stored elements in Compressed Sparse Row format>"
      ]
     },
     "execution_count": 334,
     "metadata": {},
     "output_type": "execute_result"
    }
   ],
   "source": [
    "data_pred_dtm = vect.transform(data_pred)\n",
    "data_pred_dtm"
   ]
  },
  {
   "cell_type": "code",
   "execution_count": 341,
   "metadata": {
    "collapsed": false,
    "deletable": true,
    "editable": true
   },
   "outputs": [
    {
     "name": "stderr",
     "output_type": "stream",
     "text": [
      "/Users/changc25/Library/Enthought/Canopy_64bit/User/lib/python2.7/site-packages/ipykernel/__main__.py:1: SettingWithCopyWarning: \n",
      "A value is trying to be set on a copy of a slice from a DataFrame.\n",
      "Try using .loc[row_indexer,col_indexer] = value instead\n",
      "\n",
      "See the caveats in the documentation: http://pandas.pydata.org/pandas-docs/stable/indexing.html#indexing-view-versus-copy\n",
      "  if __name__ == '__main__':\n"
     ]
    }
   ],
   "source": [
    "data_pred_label = clf.predict(data_pred_dtm)\n",
    "drug_summary_pred['pred_label'] = data_pred_label"
   ]
  },
  {
   "cell_type": "code",
   "execution_count": 343,
   "metadata": {
    "collapsed": false,
    "deletable": true,
    "editable": true,
    "scrolled": true
   },
   "outputs": [
    {
     "name": "stdout",
     "output_type": "stream",
     "text": [
      "Data with AE reports\n"
     ]
    },
    {
     "data": {
      "text/html": [
       "<div>\n",
       "<table border=\"1\" class=\"dataframe\">\n",
       "  <thead>\n",
       "    <tr style=\"text-align: right;\">\n",
       "      <th></th>\n",
       "      <th>drug</th>\n",
       "      <th>num_p</th>\n",
       "      <th>num_n</th>\n",
       "      <th>tot_OD_p</th>\n",
       "      <th>tot_OD_n</th>\n",
       "      <th>avg_OD_p</th>\n",
       "      <th>avg_OD_n</th>\n",
       "      <th>0</th>\n",
       "      <th>1</th>\n",
       "      <th>2</th>\n",
       "      <th>...</th>\n",
       "      <th>7</th>\n",
       "      <th>8</th>\n",
       "      <th>9</th>\n",
       "      <th>10</th>\n",
       "      <th>11</th>\n",
       "      <th>12</th>\n",
       "      <th>avg_OD_n_new</th>\n",
       "      <th>avg_OD_p_new</th>\n",
       "      <th>alt_OR</th>\n",
       "      <th>Label</th>\n",
       "    </tr>\n",
       "  </thead>\n",
       "  <tbody>\n",
       "    <tr>\n",
       "      <th>0</th>\n",
       "      <td>8-hour bayer</td>\n",
       "      <td>2645.0</td>\n",
       "      <td>1685.0</td>\n",
       "      <td>234588.97006</td>\n",
       "      <td>858.09978</td>\n",
       "      <td>88.691482</td>\n",
       "      <td>0.509258</td>\n",
       "      <td>aspirin</td>\n",
       "      <td>NaN</td>\n",
       "      <td>NaN</td>\n",
       "      <td>...</td>\n",
       "      <td>NaN</td>\n",
       "      <td>NaN</td>\n",
       "      <td>NaN</td>\n",
       "      <td>NaN</td>\n",
       "      <td>NaN</td>\n",
       "      <td>NaN</td>\n",
       "      <td>1.509258</td>\n",
       "      <td>88.691482</td>\n",
       "      <td>133.858331</td>\n",
       "      <td>2</td>\n",
       "    </tr>\n",
       "    <tr>\n",
       "      <th>1</th>\n",
       "      <td>8-mop</td>\n",
       "      <td>189.0</td>\n",
       "      <td>0.0</td>\n",
       "      <td>28518.76649</td>\n",
       "      <td>0.00000</td>\n",
       "      <td>150.892944</td>\n",
       "      <td>NaN</td>\n",
       "      <td>methoxsalen</td>\n",
       "      <td>NaN</td>\n",
       "      <td>NaN</td>\n",
       "      <td>...</td>\n",
       "      <td>NaN</td>\n",
       "      <td>NaN</td>\n",
       "      <td>NaN</td>\n",
       "      <td>NaN</td>\n",
       "      <td>NaN</td>\n",
       "      <td>NaN</td>\n",
       "      <td>1.000000</td>\n",
       "      <td>150.892944</td>\n",
       "      <td>150.892944</td>\n",
       "      <td>2</td>\n",
       "    </tr>\n",
       "    <tr>\n",
       "      <th>7</th>\n",
       "      <td>a/t/s</td>\n",
       "      <td>1142.0</td>\n",
       "      <td>167.0</td>\n",
       "      <td>73239.58092</td>\n",
       "      <td>76.67688</td>\n",
       "      <td>64.132733</td>\n",
       "      <td>0.459143</td>\n",
       "      <td>erythromycin</td>\n",
       "      <td>NaN</td>\n",
       "      <td>NaN</td>\n",
       "      <td>...</td>\n",
       "      <td>NaN</td>\n",
       "      <td>NaN</td>\n",
       "      <td>NaN</td>\n",
       "      <td>NaN</td>\n",
       "      <td>NaN</td>\n",
       "      <td>NaN</td>\n",
       "      <td>1.459143</td>\n",
       "      <td>64.132733</td>\n",
       "      <td>93.578828</td>\n",
       "      <td>2</td>\n",
       "    </tr>\n",
       "    <tr>\n",
       "      <th>8</th>\n",
       "      <td>abacavir</td>\n",
       "      <td>1724.0</td>\n",
       "      <td>357.0</td>\n",
       "      <td>76564.19000</td>\n",
       "      <td>109.93759</td>\n",
       "      <td>44.410783</td>\n",
       "      <td>0.307948</td>\n",
       "      <td>abacavir sulfate</td>\n",
       "      <td>NaN</td>\n",
       "      <td>NaN</td>\n",
       "      <td>...</td>\n",
       "      <td>NaN</td>\n",
       "      <td>NaN</td>\n",
       "      <td>NaN</td>\n",
       "      <td>NaN</td>\n",
       "      <td>NaN</td>\n",
       "      <td>NaN</td>\n",
       "      <td>1.307948</td>\n",
       "      <td>44.410783</td>\n",
       "      <td>58.087014</td>\n",
       "      <td>1</td>\n",
       "    </tr>\n",
       "    <tr>\n",
       "      <th>9</th>\n",
       "      <td>abacavir and lamivudine</td>\n",
       "      <td>1724.0</td>\n",
       "      <td>357.0</td>\n",
       "      <td>76564.19000</td>\n",
       "      <td>109.93759</td>\n",
       "      <td>44.410783</td>\n",
       "      <td>0.307948</td>\n",
       "      <td>abacavir</td>\n",
       "      <td>lamivudine</td>\n",
       "      <td>NaN</td>\n",
       "      <td>...</td>\n",
       "      <td>NaN</td>\n",
       "      <td>NaN</td>\n",
       "      <td>NaN</td>\n",
       "      <td>NaN</td>\n",
       "      <td>NaN</td>\n",
       "      <td>NaN</td>\n",
       "      <td>1.307948</td>\n",
       "      <td>44.410783</td>\n",
       "      <td>58.087014</td>\n",
       "      <td>1</td>\n",
       "    </tr>\n",
       "  </tbody>\n",
       "</table>\n",
       "<p>5 rows × 24 columns</p>\n",
       "</div>"
      ],
      "text/plain": [
       "                      drug   num_p   num_n      tot_OD_p   tot_OD_n  \\\n",
       "0             8-hour bayer  2645.0  1685.0  234588.97006  858.09978   \n",
       "1                    8-mop   189.0     0.0   28518.76649    0.00000   \n",
       "7                    a/t/s  1142.0   167.0   73239.58092   76.67688   \n",
       "8                 abacavir  1724.0   357.0   76564.19000  109.93759   \n",
       "9  abacavir and lamivudine  1724.0   357.0   76564.19000  109.93759   \n",
       "\n",
       "     avg_OD_p  avg_OD_n                 0           1    2  ...     7    8  \\\n",
       "0   88.691482  0.509258           aspirin         NaN  NaN  ...   NaN  NaN   \n",
       "1  150.892944       NaN       methoxsalen         NaN  NaN  ...   NaN  NaN   \n",
       "7   64.132733  0.459143      erythromycin         NaN  NaN  ...   NaN  NaN   \n",
       "8   44.410783  0.307948  abacavir sulfate         NaN  NaN  ...   NaN  NaN   \n",
       "9   44.410783  0.307948          abacavir  lamivudine  NaN  ...   NaN  NaN   \n",
       "\n",
       "     9   10   11   12 avg_OD_n_new avg_OD_p_new      alt_OR Label  \n",
       "0  NaN  NaN  NaN  NaN     1.509258    88.691482  133.858331     2  \n",
       "1  NaN  NaN  NaN  NaN     1.000000   150.892944  150.892944     2  \n",
       "7  NaN  NaN  NaN  NaN     1.459143    64.132733   93.578828     2  \n",
       "8  NaN  NaN  NaN  NaN     1.307948    44.410783   58.087014     1  \n",
       "9  NaN  NaN  NaN  NaN     1.307948    44.410783   58.087014     1  \n",
       "\n",
       "[5 rows x 24 columns]"
      ]
     },
     "metadata": {},
     "output_type": "display_data"
    },
    {
     "name": "stdout",
     "output_type": "stream",
     "text": [
      "Data without AE reports but with predicted scores\n"
     ]
    },
    {
     "data": {
      "text/html": [
       "<div>\n",
       "<table border=\"1\" class=\"dataframe\">\n",
       "  <thead>\n",
       "    <tr style=\"text-align: right;\">\n",
       "      <th></th>\n",
       "      <th>drug</th>\n",
       "      <th>num_p</th>\n",
       "      <th>num_n</th>\n",
       "      <th>tot_OD_p</th>\n",
       "      <th>tot_OD_n</th>\n",
       "      <th>avg_OD_p</th>\n",
       "      <th>avg_OD_n</th>\n",
       "      <th>0</th>\n",
       "      <th>1</th>\n",
       "      <th>2</th>\n",
       "      <th>...</th>\n",
       "      <th>4</th>\n",
       "      <th>5</th>\n",
       "      <th>6</th>\n",
       "      <th>7</th>\n",
       "      <th>8</th>\n",
       "      <th>9</th>\n",
       "      <th>10</th>\n",
       "      <th>11</th>\n",
       "      <th>12</th>\n",
       "      <th>pred_label</th>\n",
       "    </tr>\n",
       "  </thead>\n",
       "  <tbody>\n",
       "    <tr>\n",
       "      <th>2</th>\n",
       "      <td>a-hydrocort</td>\n",
       "      <td>0.0</td>\n",
       "      <td>0.0</td>\n",
       "      <td>0.0</td>\n",
       "      <td>0.0</td>\n",
       "      <td>NaN</td>\n",
       "      <td>NaN</td>\n",
       "      <td>hydrocortisone sodium succinate</td>\n",
       "      <td>NaN</td>\n",
       "      <td>NaN</td>\n",
       "      <td>...</td>\n",
       "      <td>NaN</td>\n",
       "      <td>NaN</td>\n",
       "      <td>NaN</td>\n",
       "      <td>NaN</td>\n",
       "      <td>NaN</td>\n",
       "      <td>NaN</td>\n",
       "      <td>NaN</td>\n",
       "      <td>NaN</td>\n",
       "      <td>NaN</td>\n",
       "      <td>1</td>\n",
       "    </tr>\n",
       "    <tr>\n",
       "      <th>3</th>\n",
       "      <td>a-methapred</td>\n",
       "      <td>0.0</td>\n",
       "      <td>0.0</td>\n",
       "      <td>0.0</td>\n",
       "      <td>0.0</td>\n",
       "      <td>NaN</td>\n",
       "      <td>NaN</td>\n",
       "      <td>methylprednisolone sodium succinate</td>\n",
       "      <td>NaN</td>\n",
       "      <td>NaN</td>\n",
       "      <td>...</td>\n",
       "      <td>NaN</td>\n",
       "      <td>NaN</td>\n",
       "      <td>NaN</td>\n",
       "      <td>NaN</td>\n",
       "      <td>NaN</td>\n",
       "      <td>NaN</td>\n",
       "      <td>NaN</td>\n",
       "      <td>NaN</td>\n",
       "      <td>NaN</td>\n",
       "      <td>1</td>\n",
       "    </tr>\n",
       "    <tr>\n",
       "      <th>4</th>\n",
       "      <td>a-n stannous aggregated albumin</td>\n",
       "      <td>0.0</td>\n",
       "      <td>0.0</td>\n",
       "      <td>0.0</td>\n",
       "      <td>0.0</td>\n",
       "      <td>NaN</td>\n",
       "      <td>NaN</td>\n",
       "      <td>technetium tc-99m albumin aggregated kit</td>\n",
       "      <td>NaN</td>\n",
       "      <td>NaN</td>\n",
       "      <td>...</td>\n",
       "      <td>NaN</td>\n",
       "      <td>NaN</td>\n",
       "      <td>NaN</td>\n",
       "      <td>NaN</td>\n",
       "      <td>NaN</td>\n",
       "      <td>NaN</td>\n",
       "      <td>NaN</td>\n",
       "      <td>NaN</td>\n",
       "      <td>NaN</td>\n",
       "      <td>3</td>\n",
       "    </tr>\n",
       "    <tr>\n",
       "      <th>5</th>\n",
       "      <td>a-poxide</td>\n",
       "      <td>0.0</td>\n",
       "      <td>0.0</td>\n",
       "      <td>0.0</td>\n",
       "      <td>0.0</td>\n",
       "      <td>NaN</td>\n",
       "      <td>NaN</td>\n",
       "      <td>chlordiazepoxide hydrochloride</td>\n",
       "      <td>NaN</td>\n",
       "      <td>NaN</td>\n",
       "      <td>...</td>\n",
       "      <td>NaN</td>\n",
       "      <td>NaN</td>\n",
       "      <td>NaN</td>\n",
       "      <td>NaN</td>\n",
       "      <td>NaN</td>\n",
       "      <td>NaN</td>\n",
       "      <td>NaN</td>\n",
       "      <td>NaN</td>\n",
       "      <td>NaN</td>\n",
       "      <td>1</td>\n",
       "    </tr>\n",
       "    <tr>\n",
       "      <th>6</th>\n",
       "      <td>a.p.l.</td>\n",
       "      <td>0.0</td>\n",
       "      <td>0.0</td>\n",
       "      <td>0.0</td>\n",
       "      <td>0.0</td>\n",
       "      <td>NaN</td>\n",
       "      <td>NaN</td>\n",
       "      <td>gonadotropin, chorionic</td>\n",
       "      <td>NaN</td>\n",
       "      <td>NaN</td>\n",
       "      <td>...</td>\n",
       "      <td>NaN</td>\n",
       "      <td>NaN</td>\n",
       "      <td>NaN</td>\n",
       "      <td>NaN</td>\n",
       "      <td>NaN</td>\n",
       "      <td>NaN</td>\n",
       "      <td>NaN</td>\n",
       "      <td>NaN</td>\n",
       "      <td>NaN</td>\n",
       "      <td>3</td>\n",
       "    </tr>\n",
       "  </tbody>\n",
       "</table>\n",
       "<p>5 rows × 21 columns</p>\n",
       "</div>"
      ],
      "text/plain": [
       "                              drug   num_p  num_n  tot_OD_p  tot_OD_n  \\\n",
       "2                      a-hydrocort     0.0    0.0       0.0       0.0   \n",
       "3                      a-methapred     0.0    0.0       0.0       0.0   \n",
       "4  a-n stannous aggregated albumin     0.0    0.0       0.0       0.0   \n",
       "5                         a-poxide     0.0    0.0       0.0       0.0   \n",
       "6                           a.p.l.     0.0    0.0       0.0       0.0   \n",
       "\n",
       "   avg_OD_p  avg_OD_n                                         0    1    2  \\\n",
       "2       NaN       NaN           hydrocortisone sodium succinate  NaN  NaN   \n",
       "3       NaN       NaN       methylprednisolone sodium succinate  NaN  NaN   \n",
       "4       NaN       NaN  technetium tc-99m albumin aggregated kit  NaN  NaN   \n",
       "5       NaN       NaN            chlordiazepoxide hydrochloride  NaN  NaN   \n",
       "6       NaN       NaN                   gonadotropin, chorionic  NaN  NaN   \n",
       "\n",
       "     ...        4    5    6    7    8    9   10   11   12 pred_label  \n",
       "2    ...      NaN  NaN  NaN  NaN  NaN  NaN  NaN  NaN  NaN          1  \n",
       "3    ...      NaN  NaN  NaN  NaN  NaN  NaN  NaN  NaN  NaN          1  \n",
       "4    ...      NaN  NaN  NaN  NaN  NaN  NaN  NaN  NaN  NaN          3  \n",
       "5    ...      NaN  NaN  NaN  NaN  NaN  NaN  NaN  NaN  NaN          1  \n",
       "6    ...      NaN  NaN  NaN  NaN  NaN  NaN  NaN  NaN  NaN          3  \n",
       "\n",
       "[5 rows x 21 columns]"
      ]
     },
     "metadata": {},
     "output_type": "display_data"
    }
   ],
   "source": [
    "print \"Data with AE reports\"\n",
    "display(drug_summary_learn.head())\n",
    "print \"Data without AE reports but with predicted scores\"\n",
    "display(drug_summary_pred.head())"
   ]
  },
  {
   "cell_type": "code",
   "execution_count": 344,
   "metadata": {
    "collapsed": true,
    "deletable": true,
    "editable": true
   },
   "outputs": [],
   "source": [
    "drug_summary_learn.to_csv('.../drug_summary_learn.csv', index=None)\n",
    "drug_summary_pred.to_csv('.../drug_summary_pred.csv', index=None)"
   ]
  }
 ],
 "metadata": {
  "kernelspec": {
   "display_name": "Python 2",
   "language": "python",
   "name": "python2"
  },
  "language_info": {
   "codemirror_mode": {
    "name": "ipython",
    "version": 2
   },
   "file_extension": ".py",
   "mimetype": "text/x-python",
   "name": "python",
   "nbconvert_exporter": "python",
   "pygments_lexer": "ipython2",
   "version": "2.7.11"
  }
 },
 "nbformat": 4,
 "nbformat_minor": 0
}
